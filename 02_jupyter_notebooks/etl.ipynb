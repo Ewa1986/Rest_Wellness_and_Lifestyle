{
  "cells": [
    {
      "cell_type": "markdown",
      "metadata": {
        "id": "0aStgWSO0E0E"
      },
      "source": [
        "# **(ETL Rest Wellness and Lifestyle project)**"
      ]
    },
    {
      "cell_type": "markdown",
      "metadata": {
        "id": "1eLEkw5O0ECa"
      },
      "source": [
        "## Objectives\n",
        "\n",
        "* Extract: Loading the CSV file into a Pandas DataFrame \n",
        "* Transform: Handle missing values, convert data types, normalize column names, remove duplicates\n",
        "* Load: Save the cleaned dataset to a new CSV file\n",
        "\n",
        "## Inputs\n",
        "\n",
        "* Sleep Health and Lifestyle Dataset from: https://www.kaggle.com/datasets/uom190346a/sleep-health-and-lifestyle-dataset/data  \n",
        "\n",
        "## Outputs\n",
        "\n",
        "* Write here which files, code or artefacts you generate by the end of the notebook \n",
        "\n",
        "## Additional Comments\n",
        "\n",
        "* Sleep Health and Lifestyle Dataset is synthetic and was created by Laksika Tharmalingam for illustrative purposes.\n",
        "\n"
      ]
    },
    {
      "cell_type": "markdown",
      "metadata": {
        "id": "9uWZXH9LwoQg"
      },
      "source": [
        "---"
      ]
    },
    {
      "cell_type": "markdown",
      "metadata": {
        "id": "cqP-UeN-z3i2"
      },
      "source": [
        "# Change working directory"
      ]
    },
    {
      "cell_type": "markdown",
      "metadata": {},
      "source": [
        "* We are assuming you will store the notebooks in a subfolder, therefore when running the notebook in the editor, you will need to change the working directory"
      ]
    },
    {
      "cell_type": "markdown",
      "metadata": {
        "id": "aOGIGS-uz3i2"
      },
      "source": [
        "We need to change the working directory from its current folder to its parent folder\n",
        "* We access the current directory with os.getcwd()"
      ]
    },
    {
      "cell_type": "code",
      "execution_count": 1,
      "metadata": {
        "id": "wZfF_j-Bz3i4",
        "outputId": "66943449-1436-4c3d-85c7-b85f9f78349b"
      },
      "outputs": [
        {
          "data": {
            "text/plain": [
              "'c:\\\\Users\\\\Ewa\\\\Documents\\\\vscode-projects\\\\Rest_Wellness_and_Lifestyle\\\\02_jupyter_notebooks'"
            ]
          },
          "execution_count": 1,
          "metadata": {},
          "output_type": "execute_result"
        }
      ],
      "source": [
        "import os\n",
        "current_dir = os.getcwd()\n",
        "current_dir"
      ]
    },
    {
      "cell_type": "markdown",
      "metadata": {
        "id": "9MWW8E7lz3i7"
      },
      "source": [
        "We want to make the parent of the current directory the new current directory\n",
        "* os.path.dirname() gets the parent directory\n",
        "* os.chir() defines the new current directory"
      ]
    },
    {
      "cell_type": "code",
      "execution_count": 2,
      "metadata": {
        "id": "TwHsQRWjz3i9",
        "outputId": "86849db3-cd2f-4cc5-ebb8-2d0caafa1a2c"
      },
      "outputs": [
        {
          "name": "stdout",
          "output_type": "stream",
          "text": [
            "Rest_Wellness_and_Lifestyle\n"
          ]
        }
      ],
      "source": [
        "os.chdir(os.path.dirname(current_dir))\n",
        "print(\"Rest_Wellness_and_Lifestyle\")"
      ]
    },
    {
      "cell_type": "markdown",
      "metadata": {
        "id": "M_xPk_Ijz3i-"
      },
      "source": [
        "Confirm the new current directory"
      ]
    },
    {
      "cell_type": "code",
      "execution_count": 3,
      "metadata": {
        "id": "vz3S-_kjz3jA",
        "outputId": "00b79ae4-75d0-4a96-d193-ac9ef9847ea2"
      },
      "outputs": [
        {
          "data": {
            "text/plain": [
              "'c:\\\\Users\\\\Ewa\\\\Documents\\\\vscode-projects\\\\Rest_Wellness_and_Lifestyle'"
            ]
          },
          "execution_count": 3,
          "metadata": {},
          "output_type": "execute_result"
        }
      ],
      "source": [
        "current_dir = os.getcwd()\n",
        "current_dir"
      ]
    },
    {
      "cell_type": "markdown",
      "metadata": {
        "id": "-mavJ8DibrcQ"
      },
      "source": [
        "# Section 1"
      ]
    },
    {
      "cell_type": "markdown",
      "metadata": {},
      "source": [
        "Import python's libraries"
      ]
    },
    {
      "cell_type": "code",
      "execution_count": 33,
      "metadata": {},
      "outputs": [],
      "source": [
        "import pandas as pd\n",
        "import numpy as np\n",
        "import plotly.express as px\n",
        "import plotly.io as pio\n",
        "pio.renderers.default = \"browser\"\n"
      ]
    },
    {
      "cell_type": "markdown",
      "metadata": {
        "id": "ZY3l0-AxO93d"
      },
      "source": [
        "---"
      ]
    },
    {
      "cell_type": "markdown",
      "metadata": {
        "id": "uFQo3ycuO-v6"
      },
      "source": [
        "# # Step 1: Extract - Loading and Initial Exploration"
      ]
    },
    {
      "cell_type": "code",
      "execution_count": 5,
      "metadata": {},
      "outputs": [],
      "source": [
        "# Load the data\n",
        "df = pd.read_csv(\"/Users/Ewa/Documents/vscode-projects/Rest_Wellness_and_Lifestyle/01_data/Sleep_health_and_lifestyle_raw_dataset.csv\")\n",
        "# Create a copy of the data to avoid modifying the original dataset\n",
        "df_copy = df.copy()"
      ]
    },
    {
      "cell_type": "code",
      "execution_count": 6,
      "metadata": {},
      "outputs": [
        {
          "name": "stdout",
          "output_type": "stream",
          "text": [
            "<class 'pandas.core.frame.DataFrame'>\n",
            "RangeIndex: 374 entries, 0 to 373\n",
            "Data columns (total 13 columns):\n",
            " #   Column                   Non-Null Count  Dtype  \n",
            "---  ------                   --------------  -----  \n",
            " 0   Person ID                374 non-null    int64  \n",
            " 1   Gender                   374 non-null    object \n",
            " 2   Age                      374 non-null    int64  \n",
            " 3   Occupation               374 non-null    object \n",
            " 4   Sleep Duration           374 non-null    float64\n",
            " 5   Quality of Sleep         374 non-null    int64  \n",
            " 6   Physical Activity Level  374 non-null    int64  \n",
            " 7   Stress Level             374 non-null    int64  \n",
            " 8   BMI Category             374 non-null    object \n",
            " 9   Blood Pressure           374 non-null    object \n",
            " 10  Heart Rate               374 non-null    int64  \n",
            " 11  Daily Steps              374 non-null    int64  \n",
            " 12  Sleep Disorder           155 non-null    object \n",
            "dtypes: float64(1), int64(7), object(5)\n",
            "memory usage: 38.1+ KB\n"
          ]
        },
        {
          "data": {
            "text/html": [
              "<div>\n",
              "<style scoped>\n",
              "    .dataframe tbody tr th:only-of-type {\n",
              "        vertical-align: middle;\n",
              "    }\n",
              "\n",
              "    .dataframe tbody tr th {\n",
              "        vertical-align: top;\n",
              "    }\n",
              "\n",
              "    .dataframe thead th {\n",
              "        text-align: right;\n",
              "    }\n",
              "</style>\n",
              "<table border=\"1\" class=\"dataframe\">\n",
              "  <thead>\n",
              "    <tr style=\"text-align: right;\">\n",
              "      <th></th>\n",
              "      <th>Person ID</th>\n",
              "      <th>Gender</th>\n",
              "      <th>Age</th>\n",
              "      <th>Occupation</th>\n",
              "      <th>Sleep Duration</th>\n",
              "      <th>Quality of Sleep</th>\n",
              "      <th>Physical Activity Level</th>\n",
              "      <th>Stress Level</th>\n",
              "      <th>BMI Category</th>\n",
              "      <th>Blood Pressure</th>\n",
              "      <th>Heart Rate</th>\n",
              "      <th>Daily Steps</th>\n",
              "      <th>Sleep Disorder</th>\n",
              "    </tr>\n",
              "  </thead>\n",
              "  <tbody>\n",
              "    <tr>\n",
              "      <th>0</th>\n",
              "      <td>1</td>\n",
              "      <td>Male</td>\n",
              "      <td>27</td>\n",
              "      <td>Software Engineer</td>\n",
              "      <td>6.1</td>\n",
              "      <td>6</td>\n",
              "      <td>42</td>\n",
              "      <td>6</td>\n",
              "      <td>Overweight</td>\n",
              "      <td>126/83</td>\n",
              "      <td>77</td>\n",
              "      <td>4200</td>\n",
              "      <td>NaN</td>\n",
              "    </tr>\n",
              "    <tr>\n",
              "      <th>1</th>\n",
              "      <td>2</td>\n",
              "      <td>Male</td>\n",
              "      <td>28</td>\n",
              "      <td>Doctor</td>\n",
              "      <td>6.2</td>\n",
              "      <td>6</td>\n",
              "      <td>60</td>\n",
              "      <td>8</td>\n",
              "      <td>Normal</td>\n",
              "      <td>125/80</td>\n",
              "      <td>75</td>\n",
              "      <td>10000</td>\n",
              "      <td>NaN</td>\n",
              "    </tr>\n",
              "    <tr>\n",
              "      <th>2</th>\n",
              "      <td>3</td>\n",
              "      <td>Male</td>\n",
              "      <td>28</td>\n",
              "      <td>Doctor</td>\n",
              "      <td>6.2</td>\n",
              "      <td>6</td>\n",
              "      <td>60</td>\n",
              "      <td>8</td>\n",
              "      <td>Normal</td>\n",
              "      <td>125/80</td>\n",
              "      <td>75</td>\n",
              "      <td>10000</td>\n",
              "      <td>NaN</td>\n",
              "    </tr>\n",
              "    <tr>\n",
              "      <th>3</th>\n",
              "      <td>4</td>\n",
              "      <td>Male</td>\n",
              "      <td>28</td>\n",
              "      <td>Sales Representative</td>\n",
              "      <td>5.9</td>\n",
              "      <td>4</td>\n",
              "      <td>30</td>\n",
              "      <td>8</td>\n",
              "      <td>Obese</td>\n",
              "      <td>140/90</td>\n",
              "      <td>85</td>\n",
              "      <td>3000</td>\n",
              "      <td>Sleep Apnea</td>\n",
              "    </tr>\n",
              "    <tr>\n",
              "      <th>4</th>\n",
              "      <td>5</td>\n",
              "      <td>Male</td>\n",
              "      <td>28</td>\n",
              "      <td>Sales Representative</td>\n",
              "      <td>5.9</td>\n",
              "      <td>4</td>\n",
              "      <td>30</td>\n",
              "      <td>8</td>\n",
              "      <td>Obese</td>\n",
              "      <td>140/90</td>\n",
              "      <td>85</td>\n",
              "      <td>3000</td>\n",
              "      <td>Sleep Apnea</td>\n",
              "    </tr>\n",
              "  </tbody>\n",
              "</table>\n",
              "</div>"
            ],
            "text/plain": [
              "   Person ID Gender  Age            Occupation  Sleep Duration  \\\n",
              "0          1   Male   27     Software Engineer             6.1   \n",
              "1          2   Male   28                Doctor             6.2   \n",
              "2          3   Male   28                Doctor             6.2   \n",
              "3          4   Male   28  Sales Representative             5.9   \n",
              "4          5   Male   28  Sales Representative             5.9   \n",
              "\n",
              "   Quality of Sleep  Physical Activity Level  Stress Level BMI Category  \\\n",
              "0                 6                       42             6   Overweight   \n",
              "1                 6                       60             8       Normal   \n",
              "2                 6                       60             8       Normal   \n",
              "3                 4                       30             8        Obese   \n",
              "4                 4                       30             8        Obese   \n",
              "\n",
              "  Blood Pressure  Heart Rate  Daily Steps Sleep Disorder  \n",
              "0         126/83          77         4200            NaN  \n",
              "1         125/80          75        10000            NaN  \n",
              "2         125/80          75        10000            NaN  \n",
              "3         140/90          85         3000    Sleep Apnea  \n",
              "4         140/90          85         3000    Sleep Apnea  "
            ]
          },
          "execution_count": 6,
          "metadata": {},
          "output_type": "execute_result"
        }
      ],
      "source": [
        "# Display basic information about the dataset\n",
        "df_copy.info()\n",
        "df_copy.head()"
      ]
    },
    {
      "cell_type": "code",
      "execution_count": 8,
      "metadata": {},
      "outputs": [
        {
          "data": {
            "text/html": [
              "<div>\n",
              "<style scoped>\n",
              "    .dataframe tbody tr th:only-of-type {\n",
              "        vertical-align: middle;\n",
              "    }\n",
              "\n",
              "    .dataframe tbody tr th {\n",
              "        vertical-align: top;\n",
              "    }\n",
              "\n",
              "    .dataframe thead th {\n",
              "        text-align: right;\n",
              "    }\n",
              "</style>\n",
              "<table border=\"1\" class=\"dataframe\">\n",
              "  <thead>\n",
              "    <tr style=\"text-align: right;\">\n",
              "      <th></th>\n",
              "      <th>Gender</th>\n",
              "      <th>Occupation</th>\n",
              "      <th>BMI Category</th>\n",
              "      <th>Blood Pressure</th>\n",
              "      <th>Sleep Disorder</th>\n",
              "    </tr>\n",
              "  </thead>\n",
              "  <tbody>\n",
              "    <tr>\n",
              "      <th>count</th>\n",
              "      <td>374</td>\n",
              "      <td>374</td>\n",
              "      <td>374</td>\n",
              "      <td>374</td>\n",
              "      <td>155</td>\n",
              "    </tr>\n",
              "    <tr>\n",
              "      <th>unique</th>\n",
              "      <td>2</td>\n",
              "      <td>11</td>\n",
              "      <td>4</td>\n",
              "      <td>25</td>\n",
              "      <td>2</td>\n",
              "    </tr>\n",
              "    <tr>\n",
              "      <th>top</th>\n",
              "      <td>Male</td>\n",
              "      <td>Nurse</td>\n",
              "      <td>Normal</td>\n",
              "      <td>130/85</td>\n",
              "      <td>Sleep Apnea</td>\n",
              "    </tr>\n",
              "    <tr>\n",
              "      <th>freq</th>\n",
              "      <td>189</td>\n",
              "      <td>73</td>\n",
              "      <td>195</td>\n",
              "      <td>99</td>\n",
              "      <td>78</td>\n",
              "    </tr>\n",
              "  </tbody>\n",
              "</table>\n",
              "</div>"
            ],
            "text/plain": [
              "       Gender Occupation BMI Category Blood Pressure Sleep Disorder\n",
              "count     374        374          374            374            155\n",
              "unique      2         11            4             25              2\n",
              "top      Male      Nurse       Normal         130/85    Sleep Apnea\n",
              "freq      189         73          195             99             78"
            ]
          },
          "metadata": {},
          "output_type": "display_data"
        }
      ],
      "source": [
        "# Get categorical statistics\n",
        "categorical_stats = df_copy.describe(include='object')\n",
        "display(categorical_stats)"
      ]
    },
    {
      "cell_type": "markdown",
      "metadata": {},
      "source": [
        "Observations: \n",
        "\n",
        "* Gender:\n",
        "\n",
        "Males are slightly more represented in the dataset.\n",
        "\n",
        "* Occupation:\n",
        "\n",
        "11 occupations in the dataset. \"Nurse\" is the most frequent occupation (potential overrepresentation problem)\n",
        "\n",
        "* BMI Category:\n",
        "\n",
        "Four categories: Likely \"Underweight,\" \"Normal,\" \"Overweight,\" and \"Obese.\"\n",
        "\"Normal\" is the most frequent category, indicating a relatively healthy BMI distribution in the sample.\n",
        "\n",
        "* Blood Pressure:\n",
        "\n",
        "25 unique blood pressure readings. \"130/85\" is the most frequent reading\n",
        "\n",
        "* Sleep Disorder:\n",
        "\n",
        "Three categories: \"None,\" \"Insomnia,\" and \"Sleep Apnea.\" \"Sleep Apnea\" is the most commonly reported sleep disorder among individuals with recorded disorders."
      ]
    },
    {
      "cell_type": "code",
      "execution_count": 9,
      "metadata": {},
      "outputs": [
        {
          "data": {
            "text/html": [
              "<div>\n",
              "<style scoped>\n",
              "    .dataframe tbody tr th:only-of-type {\n",
              "        vertical-align: middle;\n",
              "    }\n",
              "\n",
              "    .dataframe tbody tr th {\n",
              "        vertical-align: top;\n",
              "    }\n",
              "\n",
              "    .dataframe thead th {\n",
              "        text-align: right;\n",
              "    }\n",
              "</style>\n",
              "<table border=\"1\" class=\"dataframe\">\n",
              "  <thead>\n",
              "    <tr style=\"text-align: right;\">\n",
              "      <th></th>\n",
              "      <th>0</th>\n",
              "    </tr>\n",
              "  </thead>\n",
              "  <tbody>\n",
              "    <tr>\n",
              "      <th>Sleep Disorder</th>\n",
              "      <td>58.55615</td>\n",
              "    </tr>\n",
              "  </tbody>\n",
              "</table>\n",
              "</div>"
            ],
            "text/plain": [
              "                       0\n",
              "Sleep Disorder  58.55615"
            ]
          },
          "metadata": {},
          "output_type": "display_data"
        }
      ],
      "source": [
        "# Check for missing values in the dataset (code written with Copilot help)\n",
        "missing_values = df_copy.isnull().sum() / len(df_copy) * 100\n",
        "missing_values = missing_values[missing_values > 0] # Keep only columns with missing values > 0\n",
        "missing_values = missing_values.sort_values(ascending=False)    # Sort in descending order\n",
        "missing_values = missing_values.to_frame()  # Convert to DataFrame  \n",
        "display(missing_values)"
      ]
    },
    {
      "cell_type": "code",
      "execution_count": 10,
      "metadata": {},
      "outputs": [
        {
          "data": {
            "text/html": [
              "<div>\n",
              "<style scoped>\n",
              "    .dataframe tbody tr th:only-of-type {\n",
              "        vertical-align: middle;\n",
              "    }\n",
              "\n",
              "    .dataframe tbody tr th {\n",
              "        vertical-align: top;\n",
              "    }\n",
              "\n",
              "    .dataframe thead th {\n",
              "        text-align: right;\n",
              "    }\n",
              "</style>\n",
              "<table border=\"1\" class=\"dataframe\">\n",
              "  <thead>\n",
              "    <tr style=\"text-align: right;\">\n",
              "      <th></th>\n",
              "      <th>0</th>\n",
              "    </tr>\n",
              "  </thead>\n",
              "  <tbody>\n",
              "  </tbody>\n",
              "</table>\n",
              "</div>"
            ],
            "text/plain": [
              "Empty DataFrame\n",
              "Columns: [0]\n",
              "Index: []"
            ]
          },
          "metadata": {},
          "output_type": "display_data"
        }
      ],
      "source": [
        "# Replacing missing values in the sleep disorder column with 'None'. I will assume that missing values in this column mean that the respondent does not have any sleep disorders. \n",
        "df_copy['Sleep Disorder'] = df_copy['Sleep Disorder'].fillna('None')    # Replace missing values with 'None'  \n",
        "\n",
        "#Check if the missing values have been replaced\n",
        "missing_values = df_copy.isnull().sum() / len(df_copy) * 100    # Calculate missing values percentage\n",
        "missing_values = missing_values[missing_values > 0]    # Keep only columns with missing values > 0\n",
        "missing_values = missing_values.sort_values(ascending=False)    # Sort in descending order\n",
        "missing_values = missing_values.to_frame()    # Convert to DataFrame\n",
        "display(missing_values)\n"
      ]
    },
    {
      "cell_type": "code",
      "execution_count": 11,
      "metadata": {},
      "outputs": [
        {
          "data": {
            "text/plain": [
              "0"
            ]
          },
          "metadata": {},
          "output_type": "display_data"
        }
      ],
      "source": [
        "#Check for duplicate rows in the dataset\n",
        "duplicate_rows = df_copy.duplicated().sum() # Count of duplicate rows\n",
        "display(duplicate_rows) # Display the count of duplicate rows   \n"
      ]
    },
    {
      "cell_type": "code",
      "execution_count": 15,
      "metadata": {},
      "outputs": [
        {
          "data": {
            "text/plain": [
              "Index(['Gender', 'Occupation', 'BMI Category', 'Blood Pressure',\n",
              "       'Sleep Disorder'],\n",
              "      dtype='object')"
            ]
          },
          "execution_count": 15,
          "metadata": {},
          "output_type": "execute_result"
        }
      ],
      "source": [
        "# Identify categoricaL columns in the dataset\n",
        "categorical_columns = df_copy.select_dtypes(include=['object']).columns\n",
        "categorical_columns"
      ]
    },
    {
      "cell_type": "code",
      "execution_count": 16,
      "metadata": {},
      "outputs": [
        {
          "name": "stdout",
          "output_type": "stream",
          "text": [
            "Unique values in Gender: ['Male' 'Female']\n",
            "Unique values in Occupation: ['Software Engineer' 'Doctor' 'Sales Representative' 'Teacher' 'Nurse'\n",
            " 'Engineer' 'Accountant' 'Scientist' 'Lawyer' 'Salesperson' 'Manager']\n",
            "Unique values in BMI Category: ['Overweight' 'Normal' 'Obese' 'Normal Weight']\n",
            "Unique values in Blood Pressure: ['126/83' '125/80' '140/90' '120/80' '132/87' '130/86' '117/76' '118/76'\n",
            " '128/85' '131/86' '128/84' '115/75' '135/88' '129/84' '130/85' '115/78'\n",
            " '119/77' '121/79' '125/82' '135/90' '122/80' '142/92' '140/95' '139/91'\n",
            " '118/75']\n",
            "Unique values in Sleep Disorder: ['None' 'Sleep Apnea' 'Insomnia']\n"
          ]
        }
      ],
      "source": [
        "# Display unique values in each categorical column\n",
        "for column in categorical_columns:\n",
        "    unique_values = df_copy[column].unique()\n",
        "    print(f\"Unique values in {column}: {unique_values}\")"
      ]
    },
    {
      "cell_type": "code",
      "execution_count": 17,
      "metadata": {},
      "outputs": [
        {
          "data": {
            "text/html": [
              "<div>\n",
              "<style scoped>\n",
              "    .dataframe tbody tr th:only-of-type {\n",
              "        vertical-align: middle;\n",
              "    }\n",
              "\n",
              "    .dataframe tbody tr th {\n",
              "        vertical-align: top;\n",
              "    }\n",
              "\n",
              "    .dataframe thead th {\n",
              "        text-align: right;\n",
              "    }\n",
              "</style>\n",
              "<table border=\"1\" class=\"dataframe\">\n",
              "  <thead>\n",
              "    <tr style=\"text-align: right;\">\n",
              "      <th></th>\n",
              "      <th>BMI Category</th>\n",
              "      <th>count</th>\n",
              "    </tr>\n",
              "  </thead>\n",
              "  <tbody>\n",
              "    <tr>\n",
              "      <th>0</th>\n",
              "      <td>Normal</td>\n",
              "      <td>216</td>\n",
              "    </tr>\n",
              "    <tr>\n",
              "      <th>1</th>\n",
              "      <td>Overweight</td>\n",
              "      <td>148</td>\n",
              "    </tr>\n",
              "    <tr>\n",
              "      <th>2</th>\n",
              "      <td>Obese</td>\n",
              "      <td>10</td>\n",
              "    </tr>\n",
              "  </tbody>\n",
              "</table>\n",
              "</div>"
            ],
            "text/plain": [
              "  BMI Category  count\n",
              "0       Normal    216\n",
              "1   Overweight    148\n",
              "2        Obese     10"
            ]
          },
          "execution_count": 17,
          "metadata": {},
          "output_type": "execute_result"
        }
      ],
      "source": [
        "# BMI Category has Normal and Normal Weight which are identical (It requires merging)\n",
        "df_copy['BMI Category'] = df_copy['BMI Category'].replace({'Normal Weight': 'Normal'})\n",
        "df_copy['BMI Category'].value_counts().reset_index()"
      ]
    },
    {
      "cell_type": "markdown",
      "metadata": {},
      "source": [
        "NOTE"
      ]
    },
    {
      "cell_type": "code",
      "execution_count": 18,
      "metadata": {},
      "outputs": [
        {
          "data": {
            "text/html": [
              "<div>\n",
              "<style scoped>\n",
              "    .dataframe tbody tr th:only-of-type {\n",
              "        vertical-align: middle;\n",
              "    }\n",
              "\n",
              "    .dataframe tbody tr th {\n",
              "        vertical-align: top;\n",
              "    }\n",
              "\n",
              "    .dataframe thead th {\n",
              "        text-align: right;\n",
              "    }\n",
              "</style>\n",
              "<table border=\"1\" class=\"dataframe\">\n",
              "  <thead>\n",
              "    <tr style=\"text-align: right;\">\n",
              "      <th></th>\n",
              "      <th>Occupation</th>\n",
              "      <th>count</th>\n",
              "    </tr>\n",
              "  </thead>\n",
              "  <tbody>\n",
              "    <tr>\n",
              "      <th>0</th>\n",
              "      <td>Nurse</td>\n",
              "      <td>73</td>\n",
              "    </tr>\n",
              "    <tr>\n",
              "      <th>1</th>\n",
              "      <td>Doctor</td>\n",
              "      <td>71</td>\n",
              "    </tr>\n",
              "    <tr>\n",
              "      <th>2</th>\n",
              "      <td>Engineer</td>\n",
              "      <td>63</td>\n",
              "    </tr>\n",
              "    <tr>\n",
              "      <th>3</th>\n",
              "      <td>Lawyer</td>\n",
              "      <td>47</td>\n",
              "    </tr>\n",
              "    <tr>\n",
              "      <th>4</th>\n",
              "      <td>Teacher</td>\n",
              "      <td>40</td>\n",
              "    </tr>\n",
              "    <tr>\n",
              "      <th>5</th>\n",
              "      <td>Accountant</td>\n",
              "      <td>37</td>\n",
              "    </tr>\n",
              "    <tr>\n",
              "      <th>6</th>\n",
              "      <td>Salesperson</td>\n",
              "      <td>32</td>\n",
              "    </tr>\n",
              "    <tr>\n",
              "      <th>7</th>\n",
              "      <td>Software Engineer</td>\n",
              "      <td>4</td>\n",
              "    </tr>\n",
              "    <tr>\n",
              "      <th>8</th>\n",
              "      <td>Scientist</td>\n",
              "      <td>4</td>\n",
              "    </tr>\n",
              "    <tr>\n",
              "      <th>9</th>\n",
              "      <td>Sales Representative</td>\n",
              "      <td>2</td>\n",
              "    </tr>\n",
              "    <tr>\n",
              "      <th>10</th>\n",
              "      <td>Manager</td>\n",
              "      <td>1</td>\n",
              "    </tr>\n",
              "  </tbody>\n",
              "</table>\n",
              "</div>"
            ],
            "text/plain": [
              "              Occupation  count\n",
              "0                  Nurse     73\n",
              "1                 Doctor     71\n",
              "2               Engineer     63\n",
              "3                 Lawyer     47\n",
              "4                Teacher     40\n",
              "5             Accountant     37\n",
              "6            Salesperson     32\n",
              "7      Software Engineer      4\n",
              "8              Scientist      4\n",
              "9   Sales Representative      2\n",
              "10               Manager      1"
            ]
          },
          "execution_count": 18,
          "metadata": {},
          "output_type": "execute_result"
        }
      ],
      "source": [
        "# Check for unique values in 'Occupation' column\n",
        "df_copy['Occupation'].value_counts().reset_index()  # Display unique values in 'Occupation' column\n"
      ]
    },
    {
      "cell_type": "markdown",
      "metadata": {},
      "source": [
        "Examination:\n",
        "\n",
        "\"Engineeer\" could be merged with \"Software Engineer\"\n",
        "\n",
        "\"Sales Representative\" could be merged with \"Salesperson\"\n",
        "\n",
        "The \"Manager\" and \"Scientist\" professions are underrepresented in the dataset which would make meaningful analysis difficult. Therfore, I decided to remove the corresponding rows from the DataFrame."
      ]
    },
    {
      "cell_type": "code",
      "execution_count": 19,
      "metadata": {},
      "outputs": [
        {
          "data": {
            "text/plain": [
              "Occupation\n",
              "Nurse          73\n",
              "Doctor         71\n",
              "Engineer       67\n",
              "Lawyer         47\n",
              "Teacher        40\n",
              "Accountant     37\n",
              "Salesperson    34\n",
              "Name: count, dtype: int64"
            ]
          },
          "execution_count": 19,
          "metadata": {},
          "output_type": "execute_result"
        }
      ],
      "source": [
        "df_copy[\"Occupation\"] = df_copy[\"Occupation\"].replace({'Sales Representative': 'Salesperson'}) \n",
        "df_copy[\"Occupation\"] = df_copy[\"Occupation\"].replace({'Software Engineer': 'Engineer'})\n",
        "\n",
        "index_drop = df_copy[df_copy['Occupation'].isin(['Manager', 'Scientist'])].index\n",
        "df_copy = df_copy.drop(index_drop)\n",
        "\n",
        "df_copy['Occupation'].value_counts()"
      ]
    },
    {
      "cell_type": "markdown",
      "metadata": {},
      "source": [
        "Blood Pressure Measurement\n",
        "\n",
        "Blood pressure is measured using two numbers:\n",
        "\n",
        "Systolic blood pressure (first number) – Represents the pressure exerted by blood against artery walls when the heart contracts.\n",
        "\n",
        "Diastolic blood pressure (second number) – Represents the pressure exerted by blood against artery walls when the heart is at rest between beats.\n",
        "\n",
        "The dataset contains a single column for both systolic and diastolic blood pressure. This means that to categorize blood pressure as normal, elevated, or high, I would need to split the data in the 'Blood Pressure' column."
      ]
    },
    {
      "cell_type": "code",
      "execution_count": 23,
      "metadata": {},
      "outputs": [
        {
          "data": {
            "text/html": [
              "<div>\n",
              "<style scoped>\n",
              "    .dataframe tbody tr th:only-of-type {\n",
              "        vertical-align: middle;\n",
              "    }\n",
              "\n",
              "    .dataframe tbody tr th {\n",
              "        vertical-align: top;\n",
              "    }\n",
              "\n",
              "    .dataframe thead th {\n",
              "        text-align: right;\n",
              "    }\n",
              "</style>\n",
              "<table border=\"1\" class=\"dataframe\">\n",
              "  <thead>\n",
              "    <tr style=\"text-align: right;\">\n",
              "      <th></th>\n",
              "      <th>Person ID</th>\n",
              "      <th>Gender</th>\n",
              "      <th>Age</th>\n",
              "      <th>Occupation</th>\n",
              "      <th>Sleep Duration</th>\n",
              "      <th>Quality of Sleep</th>\n",
              "      <th>Physical Activity Level</th>\n",
              "      <th>Stress Level</th>\n",
              "      <th>BMI Category</th>\n",
              "      <th>Blood Pressure</th>\n",
              "      <th>Heart Rate</th>\n",
              "      <th>Daily Steps</th>\n",
              "      <th>Sleep Disorder</th>\n",
              "      <th>Systolic Pressure</th>\n",
              "      <th>Diastolic Pressure</th>\n",
              "      <th>Blood Pressure Category</th>\n",
              "    </tr>\n",
              "  </thead>\n",
              "  <tbody>\n",
              "    <tr>\n",
              "      <th>0</th>\n",
              "      <td>1</td>\n",
              "      <td>Male</td>\n",
              "      <td>27</td>\n",
              "      <td>Engineer</td>\n",
              "      <td>6.1</td>\n",
              "      <td>6</td>\n",
              "      <td>42</td>\n",
              "      <td>6</td>\n",
              "      <td>Overweight</td>\n",
              "      <td>126/83</td>\n",
              "      <td>77</td>\n",
              "      <td>4200</td>\n",
              "      <td>None</td>\n",
              "      <td>126</td>\n",
              "      <td>83</td>\n",
              "      <td>Normal</td>\n",
              "    </tr>\n",
              "    <tr>\n",
              "      <th>1</th>\n",
              "      <td>2</td>\n",
              "      <td>Male</td>\n",
              "      <td>28</td>\n",
              "      <td>Doctor</td>\n",
              "      <td>6.2</td>\n",
              "      <td>6</td>\n",
              "      <td>60</td>\n",
              "      <td>8</td>\n",
              "      <td>Normal</td>\n",
              "      <td>125/80</td>\n",
              "      <td>75</td>\n",
              "      <td>10000</td>\n",
              "      <td>None</td>\n",
              "      <td>125</td>\n",
              "      <td>80</td>\n",
              "      <td>Normal</td>\n",
              "    </tr>\n",
              "    <tr>\n",
              "      <th>2</th>\n",
              "      <td>3</td>\n",
              "      <td>Male</td>\n",
              "      <td>28</td>\n",
              "      <td>Doctor</td>\n",
              "      <td>6.2</td>\n",
              "      <td>6</td>\n",
              "      <td>60</td>\n",
              "      <td>8</td>\n",
              "      <td>Normal</td>\n",
              "      <td>125/80</td>\n",
              "      <td>75</td>\n",
              "      <td>10000</td>\n",
              "      <td>None</td>\n",
              "      <td>125</td>\n",
              "      <td>80</td>\n",
              "      <td>Normal</td>\n",
              "    </tr>\n",
              "    <tr>\n",
              "      <th>3</th>\n",
              "      <td>4</td>\n",
              "      <td>Male</td>\n",
              "      <td>28</td>\n",
              "      <td>Salesperson</td>\n",
              "      <td>5.9</td>\n",
              "      <td>4</td>\n",
              "      <td>30</td>\n",
              "      <td>8</td>\n",
              "      <td>Obese</td>\n",
              "      <td>140/90</td>\n",
              "      <td>85</td>\n",
              "      <td>3000</td>\n",
              "      <td>Sleep Apnea</td>\n",
              "      <td>140</td>\n",
              "      <td>90</td>\n",
              "      <td>Hypertension</td>\n",
              "    </tr>\n",
              "    <tr>\n",
              "      <th>4</th>\n",
              "      <td>5</td>\n",
              "      <td>Male</td>\n",
              "      <td>28</td>\n",
              "      <td>Salesperson</td>\n",
              "      <td>5.9</td>\n",
              "      <td>4</td>\n",
              "      <td>30</td>\n",
              "      <td>8</td>\n",
              "      <td>Obese</td>\n",
              "      <td>140/90</td>\n",
              "      <td>85</td>\n",
              "      <td>3000</td>\n",
              "      <td>Sleep Apnea</td>\n",
              "      <td>140</td>\n",
              "      <td>90</td>\n",
              "      <td>Hypertension</td>\n",
              "    </tr>\n",
              "  </tbody>\n",
              "</table>\n",
              "</div>"
            ],
            "text/plain": [
              "   Person ID Gender  Age   Occupation  Sleep Duration  Quality of Sleep  \\\n",
              "0          1   Male   27     Engineer             6.1                 6   \n",
              "1          2   Male   28       Doctor             6.2                 6   \n",
              "2          3   Male   28       Doctor             6.2                 6   \n",
              "3          4   Male   28  Salesperson             5.9                 4   \n",
              "4          5   Male   28  Salesperson             5.9                 4   \n",
              "\n",
              "   Physical Activity Level  Stress Level BMI Category Blood Pressure  \\\n",
              "0                       42             6   Overweight         126/83   \n",
              "1                       60             8       Normal         125/80   \n",
              "2                       60             8       Normal         125/80   \n",
              "3                       30             8        Obese         140/90   \n",
              "4                       30             8        Obese         140/90   \n",
              "\n",
              "   Heart Rate  Daily Steps Sleep Disorder  Systolic Pressure  \\\n",
              "0          77         4200           None                126   \n",
              "1          75        10000           None                125   \n",
              "2          75        10000           None                125   \n",
              "3          85         3000    Sleep Apnea                140   \n",
              "4          85         3000    Sleep Apnea                140   \n",
              "\n",
              "   Diastolic Pressure Blood Pressure Category  \n",
              "0                  83                  Normal  \n",
              "1                  80                  Normal  \n",
              "2                  80                  Normal  \n",
              "3                  90            Hypertension  \n",
              "4                  90            Hypertension  "
            ]
          },
          "execution_count": 23,
          "metadata": {},
          "output_type": "execute_result"
        }
      ],
      "source": [
        "# Split the 'Blood Pressure' column into 'Systolic Pressure' and 'Diastolic Pressure' columns\n",
        "\n",
        "df_copy[['Systolic Pressure', 'Diastolic Pressure']] = df_copy['Blood Pressure'].str.split('/', expand=True)\n",
        "df_copy['Systolic Pressure'] = pd.to_numeric(df_copy['Systolic Pressure'])\n",
        "df_copy['Diastolic Pressure'] = pd.to_numeric(df_copy['Diastolic Pressure'])\n",
        "\n",
        "# Creating the Blood Pressure Category column\n",
        "blood_pressure_conditions = [\n",
        "    (df_copy['Systolic Pressure'] < 120) & (df_copy['Diastolic Pressure'] < 80),\n",
        "    (df_copy['Systolic Pressure'].between(120, 140)) & (df_copy['Diastolic Pressure'] < 90),\n",
        "    (df_copy['Systolic Pressure'] >= 140) & (df_copy['Diastolic Pressure'] >= 90) | (df_copy['Diastolic Pressure'] >= 80)\n",
        "]\n",
        "\n",
        "labels = ['Optimal', 'Normal', 'Hypertension']\n",
        "\n",
        "df_copy['Blood Pressure Category'] = np.select(blood_pressure_conditions, labels, default='Undefined')\n",
        "\n",
        "df_copy.head(5)"
      ]
    },
    {
      "cell_type": "markdown",
      "metadata": {},
      "source": [
        "* You may add as many sections as you want, as long as it supports your project workflow.\n",
        "* All notebook's cells should be run top-down (you can't create a dynamic wherein a given point you need to go back to a previous cell to execute some task, like go back to a previous cell and refresh a variable content)"
      ]
    },
    {
      "cell_type": "markdown",
      "metadata": {},
      "source": [
        "## EDA "
      ]
    },
    {
      "cell_type": "code",
      "execution_count": 24,
      "metadata": {},
      "outputs": [
        {
          "data": {
            "text/html": [
              "<style type=\"text/css\">\n",
              "#T_cdd43_row0_col0 {\n",
              "  background-color: #083370;\n",
              "  color: #f1f1f1;\n",
              "}\n",
              "#T_cdd43_row0_col1, #T_cdd43_row0_col2, #T_cdd43_row0_col3, #T_cdd43_row0_col4, #T_cdd43_row0_col5, #T_cdd43_row0_col6, #T_cdd43_row0_col8, #T_cdd43_row0_col9, #T_cdd43_row7_col0, #T_cdd43_row7_col7 {\n",
              "  background-color: #08306b;\n",
              "  color: #f1f1f1;\n",
              "}\n",
              "#T_cdd43_row0_col7, #T_cdd43_row2_col1, #T_cdd43_row2_col2, #T_cdd43_row2_col3, #T_cdd43_row2_col4, #T_cdd43_row2_col5, #T_cdd43_row2_col6, #T_cdd43_row2_col8, #T_cdd43_row2_col9, #T_cdd43_row3_col0, #T_cdd43_row3_col5 {\n",
              "  background-color: #f7fbff;\n",
              "  color: #000000;\n",
              "}\n",
              "#T_cdd43_row1_col0 {\n",
              "  background-color: #6aaed6;\n",
              "  color: #f1f1f1;\n",
              "}\n",
              "#T_cdd43_row1_col1 {\n",
              "  background-color: #e5eff9;\n",
              "  color: #000000;\n",
              "}\n",
              "#T_cdd43_row1_col2, #T_cdd43_row1_col3, #T_cdd43_row5_col2, #T_cdd43_row5_col3, #T_cdd43_row6_col2, #T_cdd43_row6_col3, #T_cdd43_row7_col5 {\n",
              "  background-color: #f4f9fe;\n",
              "  color: #000000;\n",
              "}\n",
              "#T_cdd43_row1_col4, #T_cdd43_row5_col4 {\n",
              "  background-color: #e1edf8;\n",
              "  color: #000000;\n",
              "}\n",
              "#T_cdd43_row1_col5, #T_cdd43_row5_col5 {\n",
              "  background-color: #f5fafe;\n",
              "  color: #000000;\n",
              "}\n",
              "#T_cdd43_row1_col6, #T_cdd43_row5_col6 {\n",
              "  background-color: #d3e4f3;\n",
              "  color: #000000;\n",
              "}\n",
              "#T_cdd43_row1_col7 {\n",
              "  background-color: #3686c0;\n",
              "  color: #f1f1f1;\n",
              "}\n",
              "#T_cdd43_row1_col8 {\n",
              "  background-color: #abd0e6;\n",
              "  color: #000000;\n",
              "}\n",
              "#T_cdd43_row1_col9, #T_cdd43_row5_col9 {\n",
              "  background-color: #cddff1;\n",
              "  color: #000000;\n",
              "}\n",
              "#T_cdd43_row2_col0 {\n",
              "  background-color: #bad6eb;\n",
              "  color: #000000;\n",
              "}\n",
              "#T_cdd43_row2_col7 {\n",
              "  background-color: #ddeaf7;\n",
              "  color: #000000;\n",
              "}\n",
              "#T_cdd43_row3_col1 {\n",
              "  background-color: #edf4fc;\n",
              "  color: #000000;\n",
              "}\n",
              "#T_cdd43_row3_col2, #T_cdd43_row4_col2, #T_cdd43_row4_col3, #T_cdd43_row6_col5 {\n",
              "  background-color: #f5f9fe;\n",
              "  color: #000000;\n",
              "}\n",
              "#T_cdd43_row3_col3, #T_cdd43_row4_col5 {\n",
              "  background-color: #f6faff;\n",
              "  color: #000000;\n",
              "}\n",
              "#T_cdd43_row3_col4 {\n",
              "  background-color: #f2f8fd;\n",
              "  color: #000000;\n",
              "}\n",
              "#T_cdd43_row3_col6 {\n",
              "  background-color: #d6e6f4;\n",
              "  color: #000000;\n",
              "}\n",
              "#T_cdd43_row3_col7 {\n",
              "  background-color: #bfd8ed;\n",
              "  color: #000000;\n",
              "}\n",
              "#T_cdd43_row3_col8 {\n",
              "  background-color: #b8d5ea;\n",
              "  color: #000000;\n",
              "}\n",
              "#T_cdd43_row3_col9 {\n",
              "  background-color: #d2e3f3;\n",
              "  color: #000000;\n",
              "}\n",
              "#T_cdd43_row4_col0 {\n",
              "  background-color: #c4daee;\n",
              "  color: #000000;\n",
              "}\n",
              "#T_cdd43_row4_col1 {\n",
              "  background-color: #e8f1fa;\n",
              "  color: #000000;\n",
              "}\n",
              "#T_cdd43_row4_col4 {\n",
              "  background-color: #eaf2fb;\n",
              "  color: #000000;\n",
              "}\n",
              "#T_cdd43_row4_col6 {\n",
              "  background-color: #d5e5f4;\n",
              "  color: #000000;\n",
              "}\n",
              "#T_cdd43_row4_col7 {\n",
              "  background-color: #4f9bcb;\n",
              "  color: #f1f1f1;\n",
              "}\n",
              "#T_cdd43_row4_col8 {\n",
              "  background-color: #aed1e7;\n",
              "  color: #000000;\n",
              "}\n",
              "#T_cdd43_row4_col9 {\n",
              "  background-color: #cfe1f2;\n",
              "  color: #000000;\n",
              "}\n",
              "#T_cdd43_row5_col0 {\n",
              "  background-color: #69add5;\n",
              "  color: #f1f1f1;\n",
              "}\n",
              "#T_cdd43_row5_col1 {\n",
              "  background-color: #e4eff9;\n",
              "  color: #000000;\n",
              "}\n",
              "#T_cdd43_row5_col7 {\n",
              "  background-color: #3181bd;\n",
              "  color: #f1f1f1;\n",
              "}\n",
              "#T_cdd43_row5_col8 {\n",
              "  background-color: #aacfe5;\n",
              "  color: #000000;\n",
              "}\n",
              "#T_cdd43_row6_col0 {\n",
              "  background-color: #2070b4;\n",
              "  color: #f1f1f1;\n",
              "}\n",
              "#T_cdd43_row6_col1 {\n",
              "  background-color: #e0ecf8;\n",
              "  color: #000000;\n",
              "}\n",
              "#T_cdd43_row6_col4 {\n",
              "  background-color: #d9e7f5;\n",
              "  color: #000000;\n",
              "}\n",
              "#T_cdd43_row6_col6 {\n",
              "  background-color: #d3e3f3;\n",
              "  color: #000000;\n",
              "}\n",
              "#T_cdd43_row6_col7 {\n",
              "  background-color: #1966ad;\n",
              "  color: #f1f1f1;\n",
              "}\n",
              "#T_cdd43_row6_col8 {\n",
              "  background-color: #a5cde3;\n",
              "  color: #000000;\n",
              "}\n",
              "#T_cdd43_row6_col9 {\n",
              "  background-color: #caddf0;\n",
              "  color: #000000;\n",
              "}\n",
              "#T_cdd43_row7_col1 {\n",
              "  background-color: #dce9f6;\n",
              "  color: #000000;\n",
              "}\n",
              "#T_cdd43_row7_col2, #T_cdd43_row7_col3 {\n",
              "  background-color: #f3f8fe;\n",
              "  color: #000000;\n",
              "}\n",
              "#T_cdd43_row7_col4 {\n",
              "  background-color: #d0e2f2;\n",
              "  color: #000000;\n",
              "}\n",
              "#T_cdd43_row7_col6 {\n",
              "  background-color: #cbdef1;\n",
              "  color: #000000;\n",
              "}\n",
              "#T_cdd43_row7_col8 {\n",
              "  background-color: #9fcae1;\n",
              "  color: #000000;\n",
              "}\n",
              "#T_cdd43_row7_col9 {\n",
              "  background-color: #c7dcef;\n",
              "  color: #000000;\n",
              "}\n",
              "</style>\n",
              "<table id=\"T_cdd43\">\n",
              "  <thead>\n",
              "    <tr>\n",
              "      <th class=\"blank level0\" >&nbsp;</th>\n",
              "      <th id=\"T_cdd43_level0_col0\" class=\"col_heading level0 col0\" >Person ID</th>\n",
              "      <th id=\"T_cdd43_level0_col1\" class=\"col_heading level0 col1\" >Age</th>\n",
              "      <th id=\"T_cdd43_level0_col2\" class=\"col_heading level0 col2\" >Sleep Duration</th>\n",
              "      <th id=\"T_cdd43_level0_col3\" class=\"col_heading level0 col3\" >Quality of Sleep</th>\n",
              "      <th id=\"T_cdd43_level0_col4\" class=\"col_heading level0 col4\" >Physical Activity Level</th>\n",
              "      <th id=\"T_cdd43_level0_col5\" class=\"col_heading level0 col5\" >Stress Level</th>\n",
              "      <th id=\"T_cdd43_level0_col6\" class=\"col_heading level0 col6\" >Heart Rate</th>\n",
              "      <th id=\"T_cdd43_level0_col7\" class=\"col_heading level0 col7\" >Daily Steps</th>\n",
              "      <th id=\"T_cdd43_level0_col8\" class=\"col_heading level0 col8\" >Systolic Pressure</th>\n",
              "      <th id=\"T_cdd43_level0_col9\" class=\"col_heading level0 col9\" >Diastolic Pressure</th>\n",
              "    </tr>\n",
              "  </thead>\n",
              "  <tbody>\n",
              "    <tr>\n",
              "      <th id=\"T_cdd43_level0_row0\" class=\"row_heading level0 row0\" >count</th>\n",
              "      <td id=\"T_cdd43_row0_col0\" class=\"data row0 col0\" >369.000000</td>\n",
              "      <td id=\"T_cdd43_row0_col1\" class=\"data row0 col1\" >369.000000</td>\n",
              "      <td id=\"T_cdd43_row0_col2\" class=\"data row0 col2\" >369.000000</td>\n",
              "      <td id=\"T_cdd43_row0_col3\" class=\"data row0 col3\" >369.000000</td>\n",
              "      <td id=\"T_cdd43_row0_col4\" class=\"data row0 col4\" >369.000000</td>\n",
              "      <td id=\"T_cdd43_row0_col5\" class=\"data row0 col5\" >369.000000</td>\n",
              "      <td id=\"T_cdd43_row0_col6\" class=\"data row0 col6\" >369.000000</td>\n",
              "      <td id=\"T_cdd43_row0_col7\" class=\"data row0 col7\" >369.000000</td>\n",
              "      <td id=\"T_cdd43_row0_col8\" class=\"data row0 col8\" >369.000000</td>\n",
              "      <td id=\"T_cdd43_row0_col9\" class=\"data row0 col9\" >369.000000</td>\n",
              "    </tr>\n",
              "    <tr>\n",
              "      <th id=\"T_cdd43_level0_row1\" class=\"row_heading level0 row1\" >mean</th>\n",
              "      <td id=\"T_cdd43_row1_col0\" class=\"data row1 col0\" >188.506775</td>\n",
              "      <td id=\"T_cdd43_row1_col1\" class=\"data row1 col1\" >42.271003</td>\n",
              "      <td id=\"T_cdd43_row1_col2\" class=\"data row1 col2\" >7.144986</td>\n",
              "      <td id=\"T_cdd43_row1_col3\" class=\"data row1 col3\" >7.338753</td>\n",
              "      <td id=\"T_cdd43_row1_col4\" class=\"data row1 col4\" >59.379404</td>\n",
              "      <td id=\"T_cdd43_row1_col5\" class=\"data row1 col5\" >5.368564</td>\n",
              "      <td id=\"T_cdd43_row1_col6\" class=\"data row1 col6\" >70.062331</td>\n",
              "      <td id=\"T_cdd43_row1_col7\" class=\"data row1 col7\" >6836.314363</td>\n",
              "      <td id=\"T_cdd43_row1_col8\" class=\"data row1 col8\" >128.552846</td>\n",
              "      <td id=\"T_cdd43_row1_col9\" class=\"data row1 col9\" >84.647696</td>\n",
              "    </tr>\n",
              "    <tr>\n",
              "      <th id=\"T_cdd43_level0_row2\" class=\"row_heading level0 row2\" >std</th>\n",
              "      <td id=\"T_cdd43_row2_col0\" class=\"data row2 col0\" >108.132495</td>\n",
              "      <td id=\"T_cdd43_row2_col1\" class=\"data row2 col1\" >8.682957</td>\n",
              "      <td id=\"T_cdd43_row2_col2\" class=\"data row2 col2\" >0.791829</td>\n",
              "      <td id=\"T_cdd43_row2_col3\" class=\"data row2 col3\" >1.175677</td>\n",
              "      <td id=\"T_cdd43_row2_col4\" class=\"data row2 col4\" >20.862834</td>\n",
              "      <td id=\"T_cdd43_row2_col5\" class=\"data row2 col5\" >1.775341</td>\n",
              "      <td id=\"T_cdd43_row2_col6\" class=\"data row2 col6\" >4.054508</td>\n",
              "      <td id=\"T_cdd43_row2_col7\" class=\"data row2 col7\" >1620.028673</td>\n",
              "      <td id=\"T_cdd43_row2_col8\" class=\"data row2 col8\" >7.796184</td>\n",
              "      <td id=\"T_cdd43_row2_col9\" class=\"data row2 col9\" >6.200938</td>\n",
              "    </tr>\n",
              "    <tr>\n",
              "      <th id=\"T_cdd43_level0_row3\" class=\"row_heading level0 row3\" >min</th>\n",
              "      <td id=\"T_cdd43_row3_col0\" class=\"data row3 col0\" >1.000000</td>\n",
              "      <td id=\"T_cdd43_row3_col1\" class=\"data row3 col1\" >27.000000</td>\n",
              "      <td id=\"T_cdd43_row3_col2\" class=\"data row3 col2\" >5.900000</td>\n",
              "      <td id=\"T_cdd43_row3_col3\" class=\"data row3 col3\" >4.000000</td>\n",
              "      <td id=\"T_cdd43_row3_col4\" class=\"data row3 col4\" >30.000000</td>\n",
              "      <td id=\"T_cdd43_row3_col5\" class=\"data row3 col5\" >3.000000</td>\n",
              "      <td id=\"T_cdd43_row3_col6\" class=\"data row3 col6\" >65.000000</td>\n",
              "      <td id=\"T_cdd43_row3_col7\" class=\"data row3 col7\" >3000.000000</td>\n",
              "      <td id=\"T_cdd43_row3_col8\" class=\"data row3 col8\" >115.000000</td>\n",
              "      <td id=\"T_cdd43_row3_col9\" class=\"data row3 col9\" >75.000000</td>\n",
              "    </tr>\n",
              "    <tr>\n",
              "      <th id=\"T_cdd43_level0_row4\" class=\"row_heading level0 row4\" >25%</th>\n",
              "      <td id=\"T_cdd43_row4_col0\" class=\"data row4 col0\" >97.000000</td>\n",
              "      <td id=\"T_cdd43_row4_col1\" class=\"data row4 col1\" >36.000000</td>\n",
              "      <td id=\"T_cdd43_row4_col2\" class=\"data row4 col2\" >6.500000</td>\n",
              "      <td id=\"T_cdd43_row4_col3\" class=\"data row4 col3\" >6.000000</td>\n",
              "      <td id=\"T_cdd43_row4_col4\" class=\"data row4 col4\" >45.000000</td>\n",
              "      <td id=\"T_cdd43_row4_col5\" class=\"data row4 col5\" >4.000000</td>\n",
              "      <td id=\"T_cdd43_row4_col6\" class=\"data row4 col6\" >68.000000</td>\n",
              "      <td id=\"T_cdd43_row4_col7\" class=\"data row4 col7\" >6000.000000</td>\n",
              "      <td id=\"T_cdd43_row4_col8\" class=\"data row4 col8\" >125.000000</td>\n",
              "      <td id=\"T_cdd43_row4_col9\" class=\"data row4 col9\" >80.000000</td>\n",
              "    </tr>\n",
              "    <tr>\n",
              "      <th id=\"T_cdd43_level0_row5\" class=\"row_heading level0 row5\" >50%</th>\n",
              "      <td id=\"T_cdd43_row5_col0\" class=\"data row5 col0\" >189.000000</td>\n",
              "      <td id=\"T_cdd43_row5_col1\" class=\"data row5 col1\" >43.000000</td>\n",
              "      <td id=\"T_cdd43_row5_col2\" class=\"data row5 col2\" >7.200000</td>\n",
              "      <td id=\"T_cdd43_row5_col3\" class=\"data row5 col3\" >7.000000</td>\n",
              "      <td id=\"T_cdd43_row5_col4\" class=\"data row5 col4\" >60.000000</td>\n",
              "      <td id=\"T_cdd43_row5_col5\" class=\"data row5 col5\" >5.000000</td>\n",
              "      <td id=\"T_cdd43_row5_col6\" class=\"data row5 col6\" >70.000000</td>\n",
              "      <td id=\"T_cdd43_row5_col7\" class=\"data row5 col7\" >7000.000000</td>\n",
              "      <td id=\"T_cdd43_row5_col8\" class=\"data row5 col8\" >130.000000</td>\n",
              "      <td id=\"T_cdd43_row5_col9\" class=\"data row5 col9\" >85.000000</td>\n",
              "    </tr>\n",
              "    <tr>\n",
              "      <th id=\"T_cdd43_level0_row6\" class=\"row_heading level0 row6\" >75%</th>\n",
              "      <td id=\"T_cdd43_row6_col0\" class=\"data row6 col0\" >282.000000</td>\n",
              "      <td id=\"T_cdd43_row6_col1\" class=\"data row6 col1\" >50.000000</td>\n",
              "      <td id=\"T_cdd43_row6_col2\" class=\"data row6 col2\" >7.800000</td>\n",
              "      <td id=\"T_cdd43_row6_col3\" class=\"data row6 col3\" >8.000000</td>\n",
              "      <td id=\"T_cdd43_row6_col4\" class=\"data row6 col4\" >75.000000</td>\n",
              "      <td id=\"T_cdd43_row6_col5\" class=\"data row6 col5\" >7.000000</td>\n",
              "      <td id=\"T_cdd43_row6_col6\" class=\"data row6 col6\" >72.000000</td>\n",
              "      <td id=\"T_cdd43_row6_col7\" class=\"data row6 col7\" >8000.000000</td>\n",
              "      <td id=\"T_cdd43_row6_col8\" class=\"data row6 col8\" >135.000000</td>\n",
              "      <td id=\"T_cdd43_row6_col9\" class=\"data row6 col9\" >90.000000</td>\n",
              "    </tr>\n",
              "    <tr>\n",
              "      <th id=\"T_cdd43_level0_row7\" class=\"row_heading level0 row7\" >max</th>\n",
              "      <td id=\"T_cdd43_row7_col0\" class=\"data row7 col0\" >374.000000</td>\n",
              "      <td id=\"T_cdd43_row7_col1\" class=\"data row7 col1\" >59.000000</td>\n",
              "      <td id=\"T_cdd43_row7_col2\" class=\"data row7 col2\" >8.500000</td>\n",
              "      <td id=\"T_cdd43_row7_col3\" class=\"data row7 col3\" >9.000000</td>\n",
              "      <td id=\"T_cdd43_row7_col4\" class=\"data row7 col4\" >90.000000</td>\n",
              "      <td id=\"T_cdd43_row7_col5\" class=\"data row7 col5\" >8.000000</td>\n",
              "      <td id=\"T_cdd43_row7_col6\" class=\"data row7 col6\" >86.000000</td>\n",
              "      <td id=\"T_cdd43_row7_col7\" class=\"data row7 col7\" >10000.000000</td>\n",
              "      <td id=\"T_cdd43_row7_col8\" class=\"data row7 col8\" >142.000000</td>\n",
              "      <td id=\"T_cdd43_row7_col9\" class=\"data row7 col9\" >95.000000</td>\n",
              "    </tr>\n",
              "  </tbody>\n",
              "</table>\n"
            ],
            "text/plain": [
              "<pandas.io.formats.style.Styler at 0x1f089d37fb0>"
            ]
          },
          "metadata": {},
          "output_type": "display_data"
        }
      ],
      "source": [
        "# Describe basic statistics of the dataset\n",
        "\n",
        "summary_stats = df_copy.describe()\n",
        "styled_summary = summary_stats.style.background_gradient(cmap='Blues')\n",
        "display(styled_summary)"
      ]
    },
    {
      "cell_type": "markdown",
      "metadata": {},
      "source": [
        "Dataset Summary:\n",
        "\n",
        "* Age:\n",
        "\n",
        "Mean (42.27) / Median (43): The dataset reflects a somewhat older adult population . The close values of the mean and median suggest the age distribution is fairly symmetrical.\n",
        "Standard Deviation (8.68): The age distribution has a moderate spread, with a mix of younger and older individuals around the average.\n",
        "Range (27 - 59): The dataset captures a wide age range of adults.\n",
        "\n",
        "* Sleep Duration:\n",
        "\n",
        "Mean (7.14) / Median (7.20): On average, individuals in the dataset get about 7 hours of sleep per day. The proximity of the mean and median suggests a relatively symmetrical distribution.\n",
        "Range (5.9 - 8.5): There’s some variation in sleep duration, but most individuals sleep within a fairly narrow range.\n",
        "\n",
        "* Quality of Sleep:\n",
        "\n",
        "Mean (7.33) / Median (7): The average sleep quality rating is above the midpoint of the 1-10 scale. The slightly higher mean compared to the median suggests the distribution may be slightly right-skewed (positive skew), meaning that while most individuals report average to good sleep quality, a few individuals with significantly higher sleep quality ratings are pulling the mean up.\n",
        "\n",
        "* Physical Activity Level:\n",
        "\n",
        "Mean (59.37) / Median (60): On average, individuals engage in around an hour of physical activity per day.\n",
        "Range (30 - 90): There is considerable variation in activity levels, with some individuals being significantly more active than others.\n",
        "\n",
        "* Stress Level:\n",
        "\n",
        "Mean (5.36) / Median (5): The average stress level is slightly above the midpoint of the 1-10 scale. The lower mean compared to the median suggests a possible skew towards higher stress levels for certain individuals.\n",
        " \n",
        " * Heart Rate:\n",
        "\n",
        "Mean (70.06) / Median (70): The average resting heart rate is approximately 70 beats per minute, within the normal range for adults. The near-identical mean and median suggest a balanced distribution.\n",
        "\n",
        "* Daily Steps:\n",
        "\n",
        "Mean (6836.31) / Median (7000): On average, individuals take nearly 7,000 steps per day.\n",
        "Range (3000 - 10000): There’s considerable variation in daily step counts, indicating varying levels of activity among individuals."
      ]
    },
    {
      "cell_type": "code",
      "execution_count": 25,
      "metadata": {},
      "outputs": [
        {
          "data": {
            "text/plain": [
              "9"
            ]
          },
          "execution_count": 25,
          "metadata": {},
          "output_type": "execute_result"
        }
      ],
      "source": [
        "# Check for the outliers in the dataset using Z-scores\n",
        "\n",
        "# Select only numerical columns to avoid issues with non-numeric data\n",
        "numeric_df = df_copy.select_dtypes(include=[np.number])\n",
        "\n",
        "# Compute Z-scores for numerical columns\n",
        "z_scores = np.abs((numeric_df - numeric_df.mean()) / numeric_df.std())\n",
        "\n",
        "# Identify outliers (Z-score > 3)\n",
        "outliers = z_scores > 3\n",
        "\n",
        "# Count the total number of outliers in the dataset\n",
        "num_outliers = outliers.sum().sum()\n",
        "\n",
        "# Display the number of outliers\n",
        "num_outliers\n"
      ]
    },
    {
      "cell_type": "code",
      "execution_count": 34,
      "metadata": {},
      "outputs": [],
      "source": [
        "# Plotting outliers on a scatter plot\n",
        "# Select only numerical columns to avoid issues with non-numeric data\n",
        "numeric_df = df_copy.select_dtypes(include=[np.number])\n",
        "\n",
        "# Compute Z-scores for numerical columns\n",
        "z_scores = np.abs((numeric_df - numeric_df.mean()) / numeric_df.std())\n",
        "\n",
        "# Identify outliers (Z-score > 3)\n",
        "outliers = z_scores > 3\n",
        "\n",
        "# Marking outliers\n",
        "outlier_indices = np.where(outliers)  # Extract indices of outliers\n",
        "\n",
        "# Create a DataFrame to separate outliers and normal points\n",
        "outliers_df = numeric_df.iloc[outlier_indices[0]]\n",
        "normal_df = numeric_df.drop(outlier_indices[0])\n",
        "\n",
        "# Plotting the normal data points and outliers on a scatter plot\n",
        "fig = px.scatter(x=numeric_df.iloc[:, 0], y=numeric_df.iloc[:, 1], title=\"Scatter Plot with Outliers\", \n",
        "                 labels={'x': numeric_df.columns[0], 'y': numeric_df.columns[1]})\n",
        "\n",
        "# Add the outliers as red points\n",
        "fig.add_scatter(x=outliers_df.iloc[:, 0], y=outliers_df.iloc[:, 1], mode='markers', name=\"Outliers\", \n",
        "                marker=dict(color='red', size=10))\n",
        "\n",
        "# Show the plot\n",
        "fig.show()"
      ]
    },
    {
      "cell_type": "markdown",
      "metadata": {},
      "source": [
        "---"
      ]
    },
    {
      "cell_type": "code",
      "execution_count": 38,
      "metadata": {},
      "outputs": [],
      "source": [
        "# Plotting outliers on a heatmap\n",
        "# Create a heatmap of Z-scores  \n",
        "fig = px.imshow(z_scores, labels={'color': 'Z-Score'}, title=\"Heatmap of Z-Scores\")\n",
        "fig.show()\n",
        "\n"
      ]
    },
    {
      "cell_type": "markdown",
      "metadata": {
        "id": "ltNetd085qHf"
      },
      "source": [
        "# Push files to Repo"
      ]
    },
    {
      "cell_type": "markdown",
      "metadata": {},
      "source": [
        "* In cases where you don't need to push files to Repo, you may replace this section with \"Conclusions and Next Steps\" and state your conclusions and next steps."
      ]
    },
    {
      "cell_type": "code",
      "execution_count": null,
      "metadata": {
        "id": "aKlnIozA4eQO",
        "outputId": "fd09bc1f-adb1-4511-f6ce-492a6af570c0"
      },
      "outputs": [],
      "source": [
        "import os\n",
        "try:\n",
        "  # create your folder here\n",
        "  # os.makedirs(name='')\n",
        "except Exception as e:\n",
        "  print(e)\n"
      ]
    }
  ],
  "metadata": {
    "accelerator": "GPU",
    "colab": {
      "name": "Data Practitioner Jupyter Notebook.ipynb",
      "provenance": [],
      "toc_visible": true
    },
    "kernelspec": {
      "display_name": ".venv",
      "language": "python",
      "name": "python3"
    },
    "language_info": {
      "codemirror_mode": {
        "name": "ipython",
        "version": 3
      },
      "file_extension": ".py",
      "mimetype": "text/x-python",
      "name": "python",
      "nbconvert_exporter": "python",
      "pygments_lexer": "ipython3",
      "version": "3.12.8"
    },
    "orig_nbformat": 2
  },
  "nbformat": 4,
  "nbformat_minor": 2
}
