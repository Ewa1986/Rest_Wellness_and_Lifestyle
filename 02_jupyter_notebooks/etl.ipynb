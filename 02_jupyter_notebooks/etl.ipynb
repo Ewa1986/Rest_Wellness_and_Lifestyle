{
  "cells": [
    {
      "cell_type": "markdown",
      "metadata": {
        "id": "0aStgWSO0E0E"
      },
      "source": [
        "# **(ETL Rest Wellness and Lifestyle project)**"
      ]
    },
    {
      "cell_type": "markdown",
      "metadata": {
        "id": "1eLEkw5O0ECa"
      },
      "source": [
        "## Objectives\n",
        "\n",
        "* Extract: Loading the CSV file into a Pandas DataFrame \n",
        "* Transform: Handle missing values, convert data types, normalize column names, remove duplicates\n",
        "* Load: Save the cleaned dataset to a new CSV file\n",
        "\n",
        "## Inputs\n",
        "\n",
        "* Sleep Health and Lifestyle Dataset from: https://www.kaggle.com/datasets/uom190346a/sleep-health-and-lifestyle-dataset/data  \n",
        "\n",
        "## Outputs\n",
        "\n",
        "* Write here which files, code or artefacts you generate by the end of the notebook \n",
        "\n",
        "## Additional Comments\n",
        "\n",
        "* Sleep Health and Lifestyle Dataset is synthetic and was created by Laksika Tharmalingam for illustrative purposes.\n",
        "\n"
      ]
    },
    {
      "cell_type": "markdown",
      "metadata": {
        "id": "9uWZXH9LwoQg"
      },
      "source": [
        "---"
      ]
    },
    {
      "cell_type": "markdown",
      "metadata": {
        "id": "cqP-UeN-z3i2"
      },
      "source": [
        "# Change working directory"
      ]
    },
    {
      "cell_type": "markdown",
      "metadata": {},
      "source": [
        "* We are assuming you will store the notebooks in a subfolder, therefore when running the notebook in the editor, you will need to change the working directory"
      ]
    },
    {
      "cell_type": "markdown",
      "metadata": {
        "id": "aOGIGS-uz3i2"
      },
      "source": [
        "We need to change the working directory from its current folder to its parent folder\n",
        "* We access the current directory with os.getcwd()"
      ]
    },
    {
      "cell_type": "code",
      "execution_count": 1,
      "metadata": {
        "id": "wZfF_j-Bz3i4",
        "outputId": "66943449-1436-4c3d-85c7-b85f9f78349b"
      },
      "outputs": [
        {
          "data": {
            "text/plain": [
              "'c:\\\\Users\\\\Ewa\\\\Documents\\\\vscode-projects\\\\Rest_Wellness_and_Lifestyle\\\\02_jupyter_notebooks'"
            ]
          },
          "execution_count": 1,
          "metadata": {},
          "output_type": "execute_result"
        }
      ],
      "source": [
        "import os\n",
        "current_dir = os.getcwd()\n",
        "current_dir"
      ]
    },
    {
      "cell_type": "markdown",
      "metadata": {
        "id": "9MWW8E7lz3i7"
      },
      "source": [
        "We want to make the parent of the current directory the new current directory\n",
        "* os.path.dirname() gets the parent directory\n",
        "* os.chir() defines the new current directory"
      ]
    },
    {
      "cell_type": "code",
      "execution_count": 2,
      "metadata": {
        "id": "TwHsQRWjz3i9",
        "outputId": "86849db3-cd2f-4cc5-ebb8-2d0caafa1a2c"
      },
      "outputs": [
        {
          "name": "stdout",
          "output_type": "stream",
          "text": [
            "Rest_Wellness_and_Lifestyle\n"
          ]
        }
      ],
      "source": [
        "os.chdir(os.path.dirname(current_dir))\n",
        "print(\"Rest_Wellness_and_Lifestyle\")"
      ]
    },
    {
      "cell_type": "markdown",
      "metadata": {
        "id": "M_xPk_Ijz3i-"
      },
      "source": [
        "Confirm the new current directory"
      ]
    },
    {
      "cell_type": "code",
      "execution_count": 3,
      "metadata": {
        "id": "vz3S-_kjz3jA",
        "outputId": "00b79ae4-75d0-4a96-d193-ac9ef9847ea2"
      },
      "outputs": [
        {
          "data": {
            "text/plain": [
              "'c:\\\\Users\\\\Ewa\\\\Documents\\\\vscode-projects\\\\Rest_Wellness_and_Lifestyle'"
            ]
          },
          "execution_count": 3,
          "metadata": {},
          "output_type": "execute_result"
        }
      ],
      "source": [
        "current_dir = os.getcwd()\n",
        "current_dir"
      ]
    },
    {
      "cell_type": "markdown",
      "metadata": {
        "id": "-mavJ8DibrcQ"
      },
      "source": [
        "# Section 1"
      ]
    },
    {
      "cell_type": "markdown",
      "metadata": {},
      "source": [
        "Import python's libraries"
      ]
    },
    {
      "cell_type": "code",
      "execution_count": 4,
      "metadata": {},
      "outputs": [],
      "source": [
        "import pandas as pd\n",
        "import numpy as np\n",
        "\n"
      ]
    },
    {
      "cell_type": "markdown",
      "metadata": {
        "id": "ZY3l0-AxO93d"
      },
      "source": [
        "---"
      ]
    },
    {
      "cell_type": "markdown",
      "metadata": {
        "id": "uFQo3ycuO-v6"
      },
      "source": [
        "# # Step 1: Extract - Loading and Initial Exploration"
      ]
    },
    {
      "cell_type": "code",
      "execution_count": null,
      "metadata": {},
      "outputs": [],
      "source": [
        "# Load the data\n",
        "df = pd.read_csv(\"/Users/Ewa/Documents/vscode-projects/Rest_Wellness_and_Lifestyle/01_data/Sleep_health_and_lifestyle_raw_dataset.csv\")\n",
        "# Create a copy of the data to avoid modifying the original dataset\n",
        "df_copy = df.copy()"
      ]
    },
    {
      "cell_type": "code",
      "execution_count": 9,
      "metadata": {},
      "outputs": [
        {
          "name": "stdout",
          "output_type": "stream",
          "text": [
            "<class 'pandas.core.frame.DataFrame'>\n",
            "RangeIndex: 374 entries, 0 to 373\n",
            "Data columns (total 13 columns):\n",
            " #   Column                   Non-Null Count  Dtype  \n",
            "---  ------                   --------------  -----  \n",
            " 0   Person ID                374 non-null    int64  \n",
            " 1   Gender                   374 non-null    object \n",
            " 2   Age                      374 non-null    int64  \n",
            " 3   Occupation               374 non-null    object \n",
            " 4   Sleep Duration           374 non-null    float64\n",
            " 5   Quality of Sleep         374 non-null    int64  \n",
            " 6   Physical Activity Level  374 non-null    int64  \n",
            " 7   Stress Level             374 non-null    int64  \n",
            " 8   BMI Category             374 non-null    object \n",
            " 9   Blood Pressure           374 non-null    object \n",
            " 10  Heart Rate               374 non-null    int64  \n",
            " 11  Daily Steps              374 non-null    int64  \n",
            " 12  Sleep Disorder           155 non-null    object \n",
            "dtypes: float64(1), int64(7), object(5)\n",
            "memory usage: 38.1+ KB\n"
          ]
        },
        {
          "data": {
            "text/html": [
              "<div>\n",
              "<style scoped>\n",
              "    .dataframe tbody tr th:only-of-type {\n",
              "        vertical-align: middle;\n",
              "    }\n",
              "\n",
              "    .dataframe tbody tr th {\n",
              "        vertical-align: top;\n",
              "    }\n",
              "\n",
              "    .dataframe thead th {\n",
              "        text-align: right;\n",
              "    }\n",
              "</style>\n",
              "<table border=\"1\" class=\"dataframe\">\n",
              "  <thead>\n",
              "    <tr style=\"text-align: right;\">\n",
              "      <th></th>\n",
              "      <th>Person ID</th>\n",
              "      <th>Gender</th>\n",
              "      <th>Age</th>\n",
              "      <th>Occupation</th>\n",
              "      <th>Sleep Duration</th>\n",
              "      <th>Quality of Sleep</th>\n",
              "      <th>Physical Activity Level</th>\n",
              "      <th>Stress Level</th>\n",
              "      <th>BMI Category</th>\n",
              "      <th>Blood Pressure</th>\n",
              "      <th>Heart Rate</th>\n",
              "      <th>Daily Steps</th>\n",
              "      <th>Sleep Disorder</th>\n",
              "    </tr>\n",
              "  </thead>\n",
              "  <tbody>\n",
              "    <tr>\n",
              "      <th>0</th>\n",
              "      <td>1</td>\n",
              "      <td>Male</td>\n",
              "      <td>27</td>\n",
              "      <td>Software Engineer</td>\n",
              "      <td>6.1</td>\n",
              "      <td>6</td>\n",
              "      <td>42</td>\n",
              "      <td>6</td>\n",
              "      <td>Overweight</td>\n",
              "      <td>126/83</td>\n",
              "      <td>77</td>\n",
              "      <td>4200</td>\n",
              "      <td>NaN</td>\n",
              "    </tr>\n",
              "    <tr>\n",
              "      <th>1</th>\n",
              "      <td>2</td>\n",
              "      <td>Male</td>\n",
              "      <td>28</td>\n",
              "      <td>Doctor</td>\n",
              "      <td>6.2</td>\n",
              "      <td>6</td>\n",
              "      <td>60</td>\n",
              "      <td>8</td>\n",
              "      <td>Normal</td>\n",
              "      <td>125/80</td>\n",
              "      <td>75</td>\n",
              "      <td>10000</td>\n",
              "      <td>NaN</td>\n",
              "    </tr>\n",
              "    <tr>\n",
              "      <th>2</th>\n",
              "      <td>3</td>\n",
              "      <td>Male</td>\n",
              "      <td>28</td>\n",
              "      <td>Doctor</td>\n",
              "      <td>6.2</td>\n",
              "      <td>6</td>\n",
              "      <td>60</td>\n",
              "      <td>8</td>\n",
              "      <td>Normal</td>\n",
              "      <td>125/80</td>\n",
              "      <td>75</td>\n",
              "      <td>10000</td>\n",
              "      <td>NaN</td>\n",
              "    </tr>\n",
              "    <tr>\n",
              "      <th>3</th>\n",
              "      <td>4</td>\n",
              "      <td>Male</td>\n",
              "      <td>28</td>\n",
              "      <td>Sales Representative</td>\n",
              "      <td>5.9</td>\n",
              "      <td>4</td>\n",
              "      <td>30</td>\n",
              "      <td>8</td>\n",
              "      <td>Obese</td>\n",
              "      <td>140/90</td>\n",
              "      <td>85</td>\n",
              "      <td>3000</td>\n",
              "      <td>Sleep Apnea</td>\n",
              "    </tr>\n",
              "    <tr>\n",
              "      <th>4</th>\n",
              "      <td>5</td>\n",
              "      <td>Male</td>\n",
              "      <td>28</td>\n",
              "      <td>Sales Representative</td>\n",
              "      <td>5.9</td>\n",
              "      <td>4</td>\n",
              "      <td>30</td>\n",
              "      <td>8</td>\n",
              "      <td>Obese</td>\n",
              "      <td>140/90</td>\n",
              "      <td>85</td>\n",
              "      <td>3000</td>\n",
              "      <td>Sleep Apnea</td>\n",
              "    </tr>\n",
              "  </tbody>\n",
              "</table>\n",
              "</div>"
            ],
            "text/plain": [
              "   Person ID Gender  Age            Occupation  Sleep Duration  \\\n",
              "0          1   Male   27     Software Engineer             6.1   \n",
              "1          2   Male   28                Doctor             6.2   \n",
              "2          3   Male   28                Doctor             6.2   \n",
              "3          4   Male   28  Sales Representative             5.9   \n",
              "4          5   Male   28  Sales Representative             5.9   \n",
              "\n",
              "   Quality of Sleep  Physical Activity Level  Stress Level BMI Category  \\\n",
              "0                 6                       42             6   Overweight   \n",
              "1                 6                       60             8       Normal   \n",
              "2                 6                       60             8       Normal   \n",
              "3                 4                       30             8        Obese   \n",
              "4                 4                       30             8        Obese   \n",
              "\n",
              "  Blood Pressure  Heart Rate  Daily Steps Sleep Disorder  \n",
              "0         126/83          77         4200            NaN  \n",
              "1         125/80          75        10000            NaN  \n",
              "2         125/80          75        10000            NaN  \n",
              "3         140/90          85         3000    Sleep Apnea  \n",
              "4         140/90          85         3000    Sleep Apnea  "
            ]
          },
          "execution_count": 9,
          "metadata": {},
          "output_type": "execute_result"
        }
      ],
      "source": [
        "# Display basic information about the dataset\n",
        "df_copy.info()\n",
        "df_copy.head()"
      ]
    },
    {
      "cell_type": "code",
      "execution_count": 22,
      "metadata": {},
      "outputs": [
        {
          "data": {
            "text/html": [
              "<style type=\"text/css\">\n",
              "#T_365b8_row0_col0, #T_365b8_row0_col1, #T_365b8_row0_col2, #T_365b8_row0_col3, #T_365b8_row0_col4, #T_365b8_row0_col5, #T_365b8_row0_col6, #T_365b8_row7_col0, #T_365b8_row7_col7 {\n",
              "  background-color: #08306b;\n",
              "  color: #f1f1f1;\n",
              "}\n",
              "#T_365b8_row0_col7, #T_365b8_row2_col1, #T_365b8_row2_col2, #T_365b8_row2_col3, #T_365b8_row2_col4, #T_365b8_row2_col5, #T_365b8_row2_col6, #T_365b8_row3_col0, #T_365b8_row3_col5 {\n",
              "  background-color: #f7fbff;\n",
              "  color: #000000;\n",
              "}\n",
              "#T_365b8_row1_col0, #T_365b8_row5_col0 {\n",
              "  background-color: #6aaed6;\n",
              "  color: #f1f1f1;\n",
              "}\n",
              "#T_365b8_row1_col1 {\n",
              "  background-color: #e5eff9;\n",
              "  color: #000000;\n",
              "}\n",
              "#T_365b8_row1_col2, #T_365b8_row1_col3, #T_365b8_row5_col2, #T_365b8_row6_col2, #T_365b8_row6_col3, #T_365b8_row7_col5 {\n",
              "  background-color: #f4f9fe;\n",
              "  color: #000000;\n",
              "}\n",
              "#T_365b8_row1_col4 {\n",
              "  background-color: #e2edf8;\n",
              "  color: #000000;\n",
              "}\n",
              "#T_365b8_row1_col5, #T_365b8_row5_col5 {\n",
              "  background-color: #f5fafe;\n",
              "  color: #000000;\n",
              "}\n",
              "#T_365b8_row1_col6, #T_365b8_row5_col6 {\n",
              "  background-color: #d4e4f4;\n",
              "  color: #000000;\n",
              "}\n",
              "#T_365b8_row1_col7 {\n",
              "  background-color: #3686c0;\n",
              "  color: #f1f1f1;\n",
              "}\n",
              "#T_365b8_row2_col0 {\n",
              "  background-color: #bad6eb;\n",
              "  color: #000000;\n",
              "}\n",
              "#T_365b8_row2_col7 {\n",
              "  background-color: #ddeaf7;\n",
              "  color: #000000;\n",
              "}\n",
              "#T_365b8_row3_col1 {\n",
              "  background-color: #eef5fc;\n",
              "  color: #000000;\n",
              "}\n",
              "#T_365b8_row3_col2, #T_365b8_row4_col2, #T_365b8_row4_col3, #T_365b8_row5_col3, #T_365b8_row6_col5 {\n",
              "  background-color: #f5f9fe;\n",
              "  color: #000000;\n",
              "}\n",
              "#T_365b8_row3_col3, #T_365b8_row4_col5 {\n",
              "  background-color: #f6faff;\n",
              "  color: #000000;\n",
              "}\n",
              "#T_365b8_row3_col4 {\n",
              "  background-color: #f2f8fd;\n",
              "  color: #000000;\n",
              "}\n",
              "#T_365b8_row3_col6 {\n",
              "  background-color: #d6e6f4;\n",
              "  color: #000000;\n",
              "}\n",
              "#T_365b8_row3_col7 {\n",
              "  background-color: #bfd8ed;\n",
              "  color: #000000;\n",
              "}\n",
              "#T_365b8_row4_col0 {\n",
              "  background-color: #c6dbef;\n",
              "  color: #000000;\n",
              "}\n",
              "#T_365b8_row4_col1 {\n",
              "  background-color: #e9f2fa;\n",
              "  color: #000000;\n",
              "}\n",
              "#T_365b8_row4_col4 {\n",
              "  background-color: #eaf2fb;\n",
              "  color: #000000;\n",
              "}\n",
              "#T_365b8_row4_col6 {\n",
              "  background-color: #d5e5f4;\n",
              "  color: #000000;\n",
              "}\n",
              "#T_365b8_row4_col7 {\n",
              "  background-color: #5da5d1;\n",
              "  color: #f1f1f1;\n",
              "}\n",
              "#T_365b8_row5_col1 {\n",
              "  background-color: #e4eff9;\n",
              "  color: #000000;\n",
              "}\n",
              "#T_365b8_row5_col4, #T_365b8_row6_col1 {\n",
              "  background-color: #e1edf8;\n",
              "  color: #000000;\n",
              "}\n",
              "#T_365b8_row5_col7 {\n",
              "  background-color: #3181bd;\n",
              "  color: #f1f1f1;\n",
              "}\n",
              "#T_365b8_row6_col0 {\n",
              "  background-color: #2070b4;\n",
              "  color: #f1f1f1;\n",
              "}\n",
              "#T_365b8_row6_col4 {\n",
              "  background-color: #d9e7f5;\n",
              "  color: #000000;\n",
              "}\n",
              "#T_365b8_row6_col6 {\n",
              "  background-color: #d3e4f3;\n",
              "  color: #000000;\n",
              "}\n",
              "#T_365b8_row6_col7 {\n",
              "  background-color: #1966ad;\n",
              "  color: #f1f1f1;\n",
              "}\n",
              "#T_365b8_row7_col1 {\n",
              "  background-color: #dce9f6;\n",
              "  color: #000000;\n",
              "}\n",
              "#T_365b8_row7_col2, #T_365b8_row7_col3 {\n",
              "  background-color: #f3f8fe;\n",
              "  color: #000000;\n",
              "}\n",
              "#T_365b8_row7_col4 {\n",
              "  background-color: #d0e2f2;\n",
              "  color: #000000;\n",
              "}\n",
              "#T_365b8_row7_col6 {\n",
              "  background-color: #ccdff1;\n",
              "  color: #000000;\n",
              "}\n",
              "</style>\n",
              "<table id=\"T_365b8\">\n",
              "  <thead>\n",
              "    <tr>\n",
              "      <th class=\"blank level0\" >&nbsp;</th>\n",
              "      <th id=\"T_365b8_level0_col0\" class=\"col_heading level0 col0\" >Person ID</th>\n",
              "      <th id=\"T_365b8_level0_col1\" class=\"col_heading level0 col1\" >Age</th>\n",
              "      <th id=\"T_365b8_level0_col2\" class=\"col_heading level0 col2\" >Sleep Duration</th>\n",
              "      <th id=\"T_365b8_level0_col3\" class=\"col_heading level0 col3\" >Quality of Sleep</th>\n",
              "      <th id=\"T_365b8_level0_col4\" class=\"col_heading level0 col4\" >Physical Activity Level</th>\n",
              "      <th id=\"T_365b8_level0_col5\" class=\"col_heading level0 col5\" >Stress Level</th>\n",
              "      <th id=\"T_365b8_level0_col6\" class=\"col_heading level0 col6\" >Heart Rate</th>\n",
              "      <th id=\"T_365b8_level0_col7\" class=\"col_heading level0 col7\" >Daily Steps</th>\n",
              "    </tr>\n",
              "  </thead>\n",
              "  <tbody>\n",
              "    <tr>\n",
              "      <th id=\"T_365b8_level0_row0\" class=\"row_heading level0 row0\" >count</th>\n",
              "      <td id=\"T_365b8_row0_col0\" class=\"data row0 col0\" >374.000000</td>\n",
              "      <td id=\"T_365b8_row0_col1\" class=\"data row0 col1\" >374.000000</td>\n",
              "      <td id=\"T_365b8_row0_col2\" class=\"data row0 col2\" >374.000000</td>\n",
              "      <td id=\"T_365b8_row0_col3\" class=\"data row0 col3\" >374.000000</td>\n",
              "      <td id=\"T_365b8_row0_col4\" class=\"data row0 col4\" >374.000000</td>\n",
              "      <td id=\"T_365b8_row0_col5\" class=\"data row0 col5\" >374.000000</td>\n",
              "      <td id=\"T_365b8_row0_col6\" class=\"data row0 col6\" >374.000000</td>\n",
              "      <td id=\"T_365b8_row0_col7\" class=\"data row0 col7\" >374.000000</td>\n",
              "    </tr>\n",
              "    <tr>\n",
              "      <th id=\"T_365b8_level0_row1\" class=\"row_heading level0 row1\" >mean</th>\n",
              "      <td id=\"T_365b8_row1_col0\" class=\"data row1 col0\" >187.500000</td>\n",
              "      <td id=\"T_365b8_row1_col1\" class=\"data row1 col1\" >42.184492</td>\n",
              "      <td id=\"T_365b8_row1_col2\" class=\"data row1 col2\" >7.132086</td>\n",
              "      <td id=\"T_365b8_row1_col3\" class=\"data row1 col3\" >7.312834</td>\n",
              "      <td id=\"T_365b8_row1_col4\" class=\"data row1 col4\" >59.171123</td>\n",
              "      <td id=\"T_365b8_row1_col5\" class=\"data row1 col5\" >5.385027</td>\n",
              "      <td id=\"T_365b8_row1_col6\" class=\"data row1 col6\" >70.165775</td>\n",
              "      <td id=\"T_365b8_row1_col7\" class=\"data row1 col7\" >6816.844920</td>\n",
              "    </tr>\n",
              "    <tr>\n",
              "      <th id=\"T_365b8_level0_row2\" class=\"row_heading level0 row2\" >std</th>\n",
              "      <td id=\"T_365b8_row2_col0\" class=\"data row2 col0\" >108.108742</td>\n",
              "      <td id=\"T_365b8_row2_col1\" class=\"data row2 col1\" >8.673133</td>\n",
              "      <td id=\"T_365b8_row2_col2\" class=\"data row2 col2\" >0.795657</td>\n",
              "      <td id=\"T_365b8_row2_col3\" class=\"data row2 col3\" >1.196956</td>\n",
              "      <td id=\"T_365b8_row2_col4\" class=\"data row2 col4\" >20.830804</td>\n",
              "      <td id=\"T_365b8_row2_col5\" class=\"data row2 col5\" >1.774526</td>\n",
              "      <td id=\"T_365b8_row2_col6\" class=\"data row2 col6\" >4.135676</td>\n",
              "      <td id=\"T_365b8_row2_col7\" class=\"data row2 col7\" >1617.915679</td>\n",
              "    </tr>\n",
              "    <tr>\n",
              "      <th id=\"T_365b8_level0_row3\" class=\"row_heading level0 row3\" >min</th>\n",
              "      <td id=\"T_365b8_row3_col0\" class=\"data row3 col0\" >1.000000</td>\n",
              "      <td id=\"T_365b8_row3_col1\" class=\"data row3 col1\" >27.000000</td>\n",
              "      <td id=\"T_365b8_row3_col2\" class=\"data row3 col2\" >5.800000</td>\n",
              "      <td id=\"T_365b8_row3_col3\" class=\"data row3 col3\" >4.000000</td>\n",
              "      <td id=\"T_365b8_row3_col4\" class=\"data row3 col4\" >30.000000</td>\n",
              "      <td id=\"T_365b8_row3_col5\" class=\"data row3 col5\" >3.000000</td>\n",
              "      <td id=\"T_365b8_row3_col6\" class=\"data row3 col6\" >65.000000</td>\n",
              "      <td id=\"T_365b8_row3_col7\" class=\"data row3 col7\" >3000.000000</td>\n",
              "    </tr>\n",
              "    <tr>\n",
              "      <th id=\"T_365b8_level0_row4\" class=\"row_heading level0 row4\" >25%</th>\n",
              "      <td id=\"T_365b8_row4_col0\" class=\"data row4 col0\" >94.250000</td>\n",
              "      <td id=\"T_365b8_row4_col1\" class=\"data row4 col1\" >35.250000</td>\n",
              "      <td id=\"T_365b8_row4_col2\" class=\"data row4 col2\" >6.400000</td>\n",
              "      <td id=\"T_365b8_row4_col3\" class=\"data row4 col3\" >6.000000</td>\n",
              "      <td id=\"T_365b8_row4_col4\" class=\"data row4 col4\" >45.000000</td>\n",
              "      <td id=\"T_365b8_row4_col5\" class=\"data row4 col5\" >4.000000</td>\n",
              "      <td id=\"T_365b8_row4_col6\" class=\"data row4 col6\" >68.000000</td>\n",
              "      <td id=\"T_365b8_row4_col7\" class=\"data row4 col7\" >5600.000000</td>\n",
              "    </tr>\n",
              "    <tr>\n",
              "      <th id=\"T_365b8_level0_row5\" class=\"row_heading level0 row5\" >50%</th>\n",
              "      <td id=\"T_365b8_row5_col0\" class=\"data row5 col0\" >187.500000</td>\n",
              "      <td id=\"T_365b8_row5_col1\" class=\"data row5 col1\" >43.000000</td>\n",
              "      <td id=\"T_365b8_row5_col2\" class=\"data row5 col2\" >7.200000</td>\n",
              "      <td id=\"T_365b8_row5_col3\" class=\"data row5 col3\" >7.000000</td>\n",
              "      <td id=\"T_365b8_row5_col4\" class=\"data row5 col4\" >60.000000</td>\n",
              "      <td id=\"T_365b8_row5_col5\" class=\"data row5 col5\" >5.000000</td>\n",
              "      <td id=\"T_365b8_row5_col6\" class=\"data row5 col6\" >70.000000</td>\n",
              "      <td id=\"T_365b8_row5_col7\" class=\"data row5 col7\" >7000.000000</td>\n",
              "    </tr>\n",
              "    <tr>\n",
              "      <th id=\"T_365b8_level0_row6\" class=\"row_heading level0 row6\" >75%</th>\n",
              "      <td id=\"T_365b8_row6_col0\" class=\"data row6 col0\" >280.750000</td>\n",
              "      <td id=\"T_365b8_row6_col1\" class=\"data row6 col1\" >50.000000</td>\n",
              "      <td id=\"T_365b8_row6_col2\" class=\"data row6 col2\" >7.800000</td>\n",
              "      <td id=\"T_365b8_row6_col3\" class=\"data row6 col3\" >8.000000</td>\n",
              "      <td id=\"T_365b8_row6_col4\" class=\"data row6 col4\" >75.000000</td>\n",
              "      <td id=\"T_365b8_row6_col5\" class=\"data row6 col5\" >7.000000</td>\n",
              "      <td id=\"T_365b8_row6_col6\" class=\"data row6 col6\" >72.000000</td>\n",
              "      <td id=\"T_365b8_row6_col7\" class=\"data row6 col7\" >8000.000000</td>\n",
              "    </tr>\n",
              "    <tr>\n",
              "      <th id=\"T_365b8_level0_row7\" class=\"row_heading level0 row7\" >max</th>\n",
              "      <td id=\"T_365b8_row7_col0\" class=\"data row7 col0\" >374.000000</td>\n",
              "      <td id=\"T_365b8_row7_col1\" class=\"data row7 col1\" >59.000000</td>\n",
              "      <td id=\"T_365b8_row7_col2\" class=\"data row7 col2\" >8.500000</td>\n",
              "      <td id=\"T_365b8_row7_col3\" class=\"data row7 col3\" >9.000000</td>\n",
              "      <td id=\"T_365b8_row7_col4\" class=\"data row7 col4\" >90.000000</td>\n",
              "      <td id=\"T_365b8_row7_col5\" class=\"data row7 col5\" >8.000000</td>\n",
              "      <td id=\"T_365b8_row7_col6\" class=\"data row7 col6\" >86.000000</td>\n",
              "      <td id=\"T_365b8_row7_col7\" class=\"data row7 col7\" >10000.000000</td>\n",
              "    </tr>\n",
              "  </tbody>\n",
              "</table>\n"
            ],
            "text/plain": [
              "<pandas.io.formats.style.Styler at 0x287f0cd9580>"
            ]
          },
          "metadata": {},
          "output_type": "display_data"
        }
      ],
      "source": [
        "# Describe basic statistics of the dataset\n",
        "\n",
        "summary_stats = df_copy.describe()\n",
        "styled_summary = summary_stats.style.background_gradient(cmap='Blues')\n",
        "display(styled_summary)"
      ]
    },
    {
      "cell_type": "markdown",
      "metadata": {},
      "source": [
        "Dataset Summary:\n",
        "\n",
        "* Age:\n",
        "\n",
        "Mean (42.18) / Median (43): The dataset reflects a somewhat older adult population . The close values of the mean and median suggest the age distribution is fairly symmetrical.\n",
        "Standard Deviation (8.67): The age distribution has a moderate spread, with a mix of younger and older individuals around the average.\n",
        "Range (27 - 59): The dataset captures a wide age range of adults.\n",
        "\n",
        "* Sleep Duration:\n",
        "\n",
        "Mean (7.13) / Median (7.2): On average, individuals in the dataset get about 7 hours of sleep per day. The proximity of the mean and median suggests a relatively symmetrical distribution.\n",
        "Range (5.8 - 8.5): There’s some variation in sleep duration, but most individuals sleep within a fairly narrow range.\n",
        "\n",
        "* Quality of Sleep:\n",
        "\n",
        "Mean (6.31) / Median (7): The average sleep quality rating is slightly above the midpoint of the 1-10 scale. The higher median compared to the mean suggests the distribution may be slightly skewed, with a number of individuals reporting lower sleep quality.\n",
        "\n",
        "* Physical Activity Level:\n",
        "\n",
        "Mean (59.17) / Median (60): On average, individuals engage in around an hour of physical activity per day.\n",
        "Range (30 - 90): There is considerable variation in activity levels, with some individuals being significantly more active than others.\n",
        "\n",
        "* Stress Level:\n",
        "\n",
        "Mean (5.38) / Median (5): The average stress level is slightly above the midpoint of the 1-10 scale. The lower mean compared to the median suggests a possible skew towards higher stress levels for certain individuals.\n",
        " \n",
        " * Heart Rate:\n",
        "\n",
        "Mean (70.17) / Median (70): The average resting heart rate is approximately 70 beats per minute, within the normal range for adults. The near-identical mean and median suggest a balanced distribution.\n",
        "\n",
        "* Daily Steps:\n",
        "\n",
        "Mean (6816.84) / Median (7000): On average, individuals take nearly 7,000 steps per day.\n",
        "Range (3000 - 10000): There’s considerable variation in daily step counts, indicating varying levels of activity among individuals.\n"
      ]
    },
    {
      "cell_type": "code",
      "execution_count": 32,
      "metadata": {},
      "outputs": [
        {
          "data": {
            "text/html": [
              "<div>\n",
              "<style scoped>\n",
              "    .dataframe tbody tr th:only-of-type {\n",
              "        vertical-align: middle;\n",
              "    }\n",
              "\n",
              "    .dataframe tbody tr th {\n",
              "        vertical-align: top;\n",
              "    }\n",
              "\n",
              "    .dataframe thead th {\n",
              "        text-align: right;\n",
              "    }\n",
              "</style>\n",
              "<table border=\"1\" class=\"dataframe\">\n",
              "  <thead>\n",
              "    <tr style=\"text-align: right;\">\n",
              "      <th></th>\n",
              "      <th>Gender</th>\n",
              "      <th>Occupation</th>\n",
              "      <th>BMI Category</th>\n",
              "      <th>Blood Pressure</th>\n",
              "      <th>Sleep Disorder</th>\n",
              "    </tr>\n",
              "  </thead>\n",
              "  <tbody>\n",
              "    <tr>\n",
              "      <th>count</th>\n",
              "      <td>374</td>\n",
              "      <td>374</td>\n",
              "      <td>374</td>\n",
              "      <td>374</td>\n",
              "      <td>155</td>\n",
              "    </tr>\n",
              "    <tr>\n",
              "      <th>unique</th>\n",
              "      <td>2</td>\n",
              "      <td>11</td>\n",
              "      <td>4</td>\n",
              "      <td>25</td>\n",
              "      <td>2</td>\n",
              "    </tr>\n",
              "    <tr>\n",
              "      <th>top</th>\n",
              "      <td>Male</td>\n",
              "      <td>Nurse</td>\n",
              "      <td>Normal</td>\n",
              "      <td>130/85</td>\n",
              "      <td>Sleep Apnea</td>\n",
              "    </tr>\n",
              "    <tr>\n",
              "      <th>freq</th>\n",
              "      <td>189</td>\n",
              "      <td>73</td>\n",
              "      <td>195</td>\n",
              "      <td>99</td>\n",
              "      <td>78</td>\n",
              "    </tr>\n",
              "  </tbody>\n",
              "</table>\n",
              "</div>"
            ],
            "text/plain": [
              "       Gender Occupation BMI Category Blood Pressure Sleep Disorder\n",
              "count     374        374          374            374            155\n",
              "unique      2         11            4             25              2\n",
              "top      Male      Nurse       Normal         130/85    Sleep Apnea\n",
              "freq      189         73          195             99             78"
            ]
          },
          "metadata": {},
          "output_type": "display_data"
        }
      ],
      "source": [
        "# Get categorical statistics\n",
        "categorical_stats = df_copy.describe(include='object')\n",
        "display(categorical_stats)"
      ]
    },
    {
      "cell_type": "markdown",
      "metadata": {},
      "source": [
        "Observations: \n",
        "\n",
        "* Gender:\n",
        "\n",
        "Males are slightly more represented in the dataset.\n",
        "\n",
        "* Occupation:\n",
        "\n",
        "11 occupations in the dataset. \"Nurse\" is the most frequent occupation (potential overrepresentation problem)\n",
        "\n",
        "* BMI Category:\n",
        "\n",
        "Four categories: Likely \"Underweight,\" \"Normal,\" \"Overweight,\" and \"Obese.\"\n",
        "\"Normal\" is the most frequent category, indicating a relatively healthy BMI distribution in the sample.\n",
        "\n",
        "* Blood Pressure:\n",
        "\n",
        "25 unique blood pressure readings. \"130/85\" is the most frequent reading\n",
        "\n",
        "* Sleep Disorder:\n",
        "\n",
        "Three categories: \"None,\" \"Insomnia,\" and \"Sleep Apnea.\" \"Sleep Apnea\" is the most commonly reported sleep disorder among individuals with recorded disorders."
      ]
    },
    {
      "cell_type": "markdown",
      "metadata": {},
      "source": [
        "NOTE"
      ]
    },
    {
      "cell_type": "markdown",
      "metadata": {},
      "source": [
        "* You may add as many sections as you want, as long as it supports your project workflow.\n",
        "* All notebook's cells should be run top-down (you can't create a dynamic wherein a given point you need to go back to a previous cell to execute some task, like go back to a previous cell and refresh a variable content)"
      ]
    },
    {
      "cell_type": "markdown",
      "metadata": {},
      "source": [
        "---"
      ]
    },
    {
      "cell_type": "markdown",
      "metadata": {
        "id": "ltNetd085qHf"
      },
      "source": [
        "# Push files to Repo"
      ]
    },
    {
      "cell_type": "markdown",
      "metadata": {},
      "source": [
        "* In cases where you don't need to push files to Repo, you may replace this section with \"Conclusions and Next Steps\" and state your conclusions and next steps."
      ]
    },
    {
      "cell_type": "code",
      "execution_count": null,
      "metadata": {
        "id": "aKlnIozA4eQO",
        "outputId": "fd09bc1f-adb1-4511-f6ce-492a6af570c0"
      },
      "outputs": [],
      "source": [
        "import os\n",
        "try:\n",
        "  # create your folder here\n",
        "  # os.makedirs(name='')\n",
        "except Exception as e:\n",
        "  print(e)\n"
      ]
    }
  ],
  "metadata": {
    "accelerator": "GPU",
    "colab": {
      "name": "Data Practitioner Jupyter Notebook.ipynb",
      "provenance": [],
      "toc_visible": true
    },
    "kernelspec": {
      "display_name": ".venv",
      "language": "python",
      "name": "python3"
    },
    "language_info": {
      "codemirror_mode": {
        "name": "ipython",
        "version": 3
      },
      "file_extension": ".py",
      "mimetype": "text/x-python",
      "name": "python",
      "nbconvert_exporter": "python",
      "pygments_lexer": "ipython3",
      "version": "3.12.8"
    },
    "orig_nbformat": 2
  },
  "nbformat": 4,
  "nbformat_minor": 2
}
